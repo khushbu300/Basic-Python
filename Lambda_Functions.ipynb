{
 "cells": [
  {
   "cell_type": "code",
   "execution_count": 7,
   "id": "caf40731-13df-4f78-b8a3-4ee17e327c42",
   "metadata": {},
   "outputs": [
    {
     "name": "stdout",
     "output_type": "stream",
     "text": [
      "25\n"
     ]
    }
   ],
   "source": [
    "# Write a lambda function to square a number.\n",
    "p = (lambda i:i*i)\n",
    "print(p(5))"
   ]
  },
  {
   "cell_type": "code",
   "execution_count": 4,
   "id": "d92a3a21-73db-487f-969e-25ad5eb486d4",
   "metadata": {},
   "outputs": [],
   "source": [
    "p = lambda x,y:x+y"
   ]
  },
  {
   "cell_type": "code",
   "execution_count": 5,
   "id": "177078dd-8920-4787-ad9e-70d701db3f7a",
   "metadata": {},
   "outputs": [
    {
     "data": {
      "text/plain": [
       "5"
      ]
     },
     "execution_count": 5,
     "metadata": {},
     "output_type": "execute_result"
    }
   ],
   "source": [
    "p(2,3)"
   ]
  },
  {
   "cell_type": "code",
   "execution_count": 8,
   "id": "a5e2696a-c98e-46c4-8fe1-83b6e786ecbd",
   "metadata": {},
   "outputs": [],
   "source": [
    "# Write a lambda function to check if a number is even.\n",
    "p = lambda x:x%2==0"
   ]
  },
  {
   "cell_type": "code",
   "execution_count": 9,
   "id": "0f341406-8768-4ce0-9360-c58f498a53a9",
   "metadata": {},
   "outputs": [
    {
     "data": {
      "text/plain": [
       "True"
      ]
     },
     "execution_count": 9,
     "metadata": {},
     "output_type": "execute_result"
    }
   ],
   "source": [
    "p(8)"
   ]
  },
  {
   "cell_type": "code",
   "execution_count": 10,
   "id": "07b4c9de-79cf-4d5b-8620-bfbd37050f54",
   "metadata": {},
   "outputs": [
    {
     "data": {
      "text/plain": [
       "False"
      ]
     },
     "execution_count": 10,
     "metadata": {},
     "output_type": "execute_result"
    }
   ],
   "source": [
    "p(7)"
   ]
  },
  {
   "cell_type": "code",
   "execution_count": 11,
   "id": "23e7d8a6-9d76-4c58-a15d-6e2c29d405af",
   "metadata": {},
   "outputs": [],
   "source": [
    "# Write a lambda function to multiply two numbers.\n",
    "p = lambda x,y:x*y"
   ]
  },
  {
   "cell_type": "code",
   "execution_count": 12,
   "id": "7809da91-b119-4133-be66-5208aeff61e2",
   "metadata": {},
   "outputs": [
    {
     "data": {
      "text/plain": [
       "30"
      ]
     },
     "execution_count": 12,
     "metadata": {},
     "output_type": "execute_result"
    }
   ],
   "source": [
    "p(5,6)"
   ]
  },
  {
   "cell_type": "code",
   "execution_count": 14,
   "id": "dc172c45-879a-4a82-b627-9183717e15fc",
   "metadata": {},
   "outputs": [],
   "source": [
    "# Write a lambda function to return the larger of two numbers.\n",
    "p = lambda a,b:a if a>b else b"
   ]
  },
  {
   "cell_type": "code",
   "execution_count": 15,
   "id": "98b1daa4-8086-4f02-964d-cf5c3370e1b2",
   "metadata": {},
   "outputs": [
    {
     "data": {
      "text/plain": [
       "15"
      ]
     },
     "execution_count": 15,
     "metadata": {},
     "output_type": "execute_result"
    }
   ],
   "source": [
    "p(15,12)"
   ]
  },
  {
   "cell_type": "code",
   "execution_count": 16,
   "id": "94e628f4-aa0a-493c-b625-fff8e0c65215",
   "metadata": {},
   "outputs": [
    {
     "data": {
      "text/plain": [
       "23"
      ]
     },
     "execution_count": 16,
     "metadata": {},
     "output_type": "execute_result"
    }
   ],
   "source": [
    "p(5,23)"
   ]
  },
  {
   "cell_type": "code",
   "execution_count": 17,
   "id": "26f60b94-090d-4106-84ea-d81596d67eea",
   "metadata": {},
   "outputs": [],
   "source": [
    "# Write a lambda function to find the absolute value of a number.\n",
    "p = lambda a:abs(a)"
   ]
  },
  {
   "cell_type": "code",
   "execution_count": 18,
   "id": "fd1d8c42-ab03-4713-bd56-929eca18e15d",
   "metadata": {},
   "outputs": [
    {
     "data": {
      "text/plain": [
       "5"
      ]
     },
     "execution_count": 18,
     "metadata": {},
     "output_type": "execute_result"
    }
   ],
   "source": [
    "p(5)"
   ]
  },
  {
   "cell_type": "code",
   "execution_count": 19,
   "id": "7d4d869c-ab5f-4792-8fe0-27f6ab046dfb",
   "metadata": {},
   "outputs": [
    {
     "data": {
      "text/plain": [
       "50"
      ]
     },
     "execution_count": 19,
     "metadata": {},
     "output_type": "execute_result"
    }
   ],
   "source": [
    "p(-50)"
   ]
  },
  {
   "cell_type": "code",
   "execution_count": 31,
   "id": "514367d1-060e-4fc3-9176-32ef343d23df",
   "metadata": {},
   "outputs": [],
   "source": [
    "# Write a lambda function to check if a string is a palindrome.\n",
    "p = lambda i:i==i[::-1]"
   ]
  },
  {
   "cell_type": "code",
   "execution_count": 32,
   "id": "5d1b3862-1d86-4051-883f-a35522ab6a88",
   "metadata": {},
   "outputs": [
    {
     "data": {
      "text/plain": [
       "True"
      ]
     },
     "execution_count": 32,
     "metadata": {},
     "output_type": "execute_result"
    }
   ],
   "source": [
    "p('nitin')"
   ]
  },
  {
   "cell_type": "code",
   "execution_count": 33,
   "id": "3cab873f-478f-4a0f-ad06-b728ee4a023c",
   "metadata": {},
   "outputs": [
    {
     "data": {
      "text/plain": [
       "False"
      ]
     },
     "execution_count": 33,
     "metadata": {},
     "output_type": "execute_result"
    }
   ],
   "source": [
    "p('ketan')"
   ]
  },
  {
   "cell_type": "code",
   "execution_count": 21,
   "id": "7b8a528b-7670-4df0-af4d-8c195238ac10",
   "metadata": {},
   "outputs": [],
   "source": [
    "# Write a lambda function to calculate the cube of a number.\n",
    "p = lambda x:x**3"
   ]
  },
  {
   "cell_type": "code",
   "execution_count": 23,
   "id": "0e0f14e0-c10d-42b0-ad19-091aab15faaf",
   "metadata": {},
   "outputs": [
    {
     "data": {
      "text/plain": [
       "729"
      ]
     },
     "execution_count": 23,
     "metadata": {},
     "output_type": "execute_result"
    }
   ],
   "source": [
    "p(9)"
   ]
  },
  {
   "cell_type": "code",
   "execution_count": 24,
   "id": "3ea74ea3-859c-4831-8e6f-529ea4e085f1",
   "metadata": {},
   "outputs": [],
   "source": [
    "# Write a lambda function that returns the length of a string.\n",
    "p = lambda i:len(i)"
   ]
  },
  {
   "cell_type": "code",
   "execution_count": 25,
   "id": "7043ec49-aa5b-413e-af6a-3909d67bd1dc",
   "metadata": {},
   "outputs": [
    {
     "data": {
      "text/plain": [
       "7"
      ]
     },
     "execution_count": 25,
     "metadata": {},
     "output_type": "execute_result"
    }
   ],
   "source": [
    "p('khushbu')"
   ]
  },
  {
   "cell_type": "code",
   "execution_count": 28,
   "id": "294fc367-0113-4ae1-bec2-dbbe09c40b16",
   "metadata": {},
   "outputs": [],
   "source": [
    "# Write a lambda function to check if a number is positive.\n",
    "p = lambda x:x>0"
   ]
  },
  {
   "cell_type": "code",
   "execution_count": 29,
   "id": "a3b2b9bc-29c5-42c5-af53-ed8a31b3dd96",
   "metadata": {},
   "outputs": [
    {
     "data": {
      "text/plain": [
       "False"
      ]
     },
     "execution_count": 29,
     "metadata": {},
     "output_type": "execute_result"
    }
   ],
   "source": [
    "p(-6)"
   ]
  },
  {
   "cell_type": "code",
   "execution_count": 30,
   "id": "b1783c12-b530-476a-b70e-426f705353e7",
   "metadata": {},
   "outputs": [
    {
     "data": {
      "text/plain": [
       "True"
      ]
     },
     "execution_count": 30,
     "metadata": {},
     "output_type": "execute_result"
    }
   ],
   "source": [
    "p(80)"
   ]
  },
  {
   "cell_type": "code",
   "execution_count": 34,
   "id": "e4791721-fc25-4825-a3ac-60277c35673f",
   "metadata": {},
   "outputs": [],
   "source": [
    "# Write a lambda function to convert Celsius to Fahrenheit.\n",
    "p = lambda i:((9*i/5)+32)"
   ]
  },
  {
   "cell_type": "code",
   "execution_count": 35,
   "id": "97ed0d94-d2ef-4700-8e4e-a3db03585dfe",
   "metadata": {},
   "outputs": [
    {
     "data": {
      "text/plain": [
       "86.0"
      ]
     },
     "execution_count": 35,
     "metadata": {},
     "output_type": "execute_result"
    }
   ],
   "source": [
    "p(30)"
   ]
  },
  {
   "cell_type": "markdown",
   "id": "689d0e79-428f-4920-94cd-776eddd8c443",
   "metadata": {},
   "source": [
    "## map function"
   ]
  },
  {
   "cell_type": "code",
   "execution_count": 38,
   "id": "5c6909dc-85af-43f1-b21b-adb158bfed82",
   "metadata": {},
   "outputs": [
    {
     "name": "stdout",
     "output_type": "stream",
     "text": [
      "[25, 4, 9, 64]\n"
     ]
    }
   ],
   "source": [
    "# Write a lambda function using map to square all elements in a list.\n",
    "p = list(map(lambda x:x*x,[5,2,3,8]))\n",
    "print(p)"
   ]
  },
  {
   "cell_type": "code",
   "execution_count": 41,
   "id": "679ff7c4-e15e-4051-ac90-e0834b6ad5db",
   "metadata": {},
   "outputs": [
    {
     "name": "stdout",
     "output_type": "stream",
     "text": [
      "['KHUSHBU', 'KETAN', 'RANDIVE']\n"
     ]
    }
   ],
   "source": [
    "# Write a lambda function using map to convert all strings in a list to uppercase.\n",
    "p = list(map(lambda x:x.upper(),['khushbu','ketan','randive']))\n",
    "print(p)"
   ]
  },
  {
   "cell_type": "code",
   "execution_count": 42,
   "id": "75bc5022-7a09-4f6c-9fd1-797403c75917",
   "metadata": {},
   "outputs": [
    {
     "name": "stdout",
     "output_type": "stream",
     "text": [
      "[12, 56, 85]\n"
     ]
    }
   ],
   "source": [
    "# Write a lambda function using map to round off float numbers in a list.\n",
    "p = list(map(lambda x:round(x),[12.23,56.3,84.596]))\n",
    "print(p)"
   ]
  },
  {
   "cell_type": "code",
   "execution_count": 43,
   "id": "eb15a870-887c-4b0a-9893-106fe3e5b712",
   "metadata": {},
   "outputs": [
    {
     "name": "stdout",
     "output_type": "stream",
     "text": [
      "['u', 'n', 'e']\n"
     ]
    }
   ],
   "source": [
    "# Write a lambda function using map to get the last character of each string in a list.\n",
    "p = list(map(lambda x:x[-1],['khushbu','ketan','randive']))\n",
    "print(p)"
   ]
  },
  {
   "cell_type": "code",
   "execution_count": 46,
   "id": "af6c4b67-ec33-4e91-890d-8b12a80ae35b",
   "metadata": {},
   "outputs": [
    {
     "name": "stdout",
     "output_type": "stream",
     "text": [
      "[10.0, 50.0, 100.0]\n"
     ]
    }
   ],
   "source": [
    "# Write a lambda function using map to calculate discounted prices (10% off) from a list of prices.\n",
    "p = list(map(lambda x:0.1*x, [100,500,1000]))\n",
    "print(p)"
   ]
  },
  {
   "cell_type": "code",
   "execution_count": 47,
   "id": "54da0f37-72d2-48f2-9685-1f008dddaef0",
   "metadata": {},
   "outputs": [
    {
     "name": "stdout",
     "output_type": "stream",
     "text": [
      "[6, 8, 12]\n"
     ]
    }
   ],
   "source": [
    "# Write a lambda function using filter to select only even numbers from a list.\n",
    "p = list(filter(lambda x:x%2==0,[5,3,6,8,9,12]))\n",
    "print(p)"
   ]
  },
  {
   "cell_type": "code",
   "execution_count": 48,
   "id": "89df9885-4313-48b7-90ff-c0306db4c2c7",
   "metadata": {},
   "outputs": [
    {
     "name": "stdout",
     "output_type": "stream",
     "text": [
      "['khushbu', 'randive', 'shahare']\n"
     ]
    }
   ],
   "source": [
    "# Write a lambda function using filter to find strings longer than 5 characters.\n",
    "string = ['khushbu','ketan','randive','shahare','book','pen']\n",
    "p = list(filter(lambda x:len(x)>5,string))\n",
    "print(p)"
   ]
  },
  {
   "cell_type": "code",
   "execution_count": 49,
   "id": "f4b67e6b-0a18-4cb5-a204-0d45d17fe005",
   "metadata": {},
   "outputs": [
    {
     "name": "stdout",
     "output_type": "stream",
     "text": [
      "['nitin', 'radar', 'civic']\n"
     ]
    }
   ],
   "source": [
    "# Write a lambda function using filter to find all palindromes in a list of strings.\n",
    "st = ['nitin', 'khushbu','radar','civic','yogesh']\n",
    "p = list(filter(lambda x:x==x[::-1],st))\n",
    "print(p)"
   ]
  },
  {
   "cell_type": "code",
   "execution_count": 50,
   "id": "d84b8b4c-57d1-47ff-be91-99b72756eed4",
   "metadata": {},
   "outputs": [
    {
     "name": "stdout",
     "output_type": "stream",
     "text": [
      "[4, 5, 3]\n"
     ]
    }
   ],
   "source": [
    "# Write a lambda function using filter to extract positive numbers from a list. \n",
    "l = [4,5,0,-6,3,-9,-5]\n",
    "p = list(filter(lambda x:x>0,l))\n",
    "print(p)"
   ]
  },
  {
   "cell_type": "code",
   "execution_count": 52,
   "id": "289b97d3-7102-4748-9d7d-c4d032affbe1",
   "metadata": {},
   "outputs": [
    {
     "name": "stdout",
     "output_type": "stream",
     "text": [
      "['khushbu@gmail.com', 'harshal@gmail.com']\n"
     ]
    }
   ],
   "source": [
    "# Write a lambda function using filter to get all emails that end with \"@gmail.com\".\n",
    "emails = ['khushbu@gmail.com','ketan@yahoo.com','harshal@gmail.com']\n",
    "p = list(filter(lambda x:x.endswith('@gmail.com'),emails))\n",
    "print(p)"
   ]
  },
  {
   "cell_type": "markdown",
   "id": "ee59dc86-c550-40fd-bdf6-3d778114b1aa",
   "metadata": {},
   "source": [
    "## Reduce"
   ]
  },
  {
   "cell_type": "code",
   "execution_count": 54,
   "id": "52249745-9eba-4e31-810e-c9f780f2f7a5",
   "metadata": {},
   "outputs": [],
   "source": [
    "from functools import reduce"
   ]
  },
  {
   "cell_type": "code",
   "execution_count": 55,
   "id": "dd0849e4-8cd0-41ee-9621-a6bf25ce5a2a",
   "metadata": {},
   "outputs": [
    {
     "name": "stdout",
     "output_type": "stream",
     "text": [
      "30\n"
     ]
    }
   ],
   "source": [
    "# 21. Write a lambda function using reduce to find the sum of all elements in a list.\n",
    "l = [4,5,3,2,1,9,6]\n",
    "p = reduce(lambda a,b:a+b,l)\n",
    "print(p)"
   ]
  },
  {
   "cell_type": "code",
   "execution_count": 57,
   "id": "2ea49875-6bd9-4df5-b3d0-2cdeeecc6ee0",
   "metadata": {},
   "outputs": [
    {
     "name": "stdout",
     "output_type": "stream",
     "text": [
      "6480\n"
     ]
    }
   ],
   "source": [
    "# Write a lambda function using reduce to find the product of all elements in a list.\n",
    "l = [4,5,3,2,1,9,6]\n",
    "p = reduce(lambda a,b:a*b,l)\n",
    "print(p)"
   ]
  },
  {
   "cell_type": "code",
   "execution_count": 72,
   "id": "b1253ad3-8f85-419c-a9b1-2f2e49457c64",
   "metadata": {},
   "outputs": [
    {
     "name": "stdout",
     "output_type": "stream",
     "text": [
      "durdharshan\n"
     ]
    }
   ],
   "source": [
    "# Write a lambda function using reduce to find the longest word in a list of words.\n",
    "st = ['nitin', 'khushbu','radar','civic','yogesh','durdharshan']\n",
    "p = reduce(lambda x,y:x if len(x)>len(y) else y,st)\n",
    "print(p)"
   ]
  },
  {
   "cell_type": "code",
   "execution_count": 74,
   "id": "1faf8177-1bf1-4af9-8ea4-3625845388c3",
   "metadata": {},
   "outputs": [
    {
     "name": "stdout",
     "output_type": "stream",
     "text": [
      "2\n"
     ]
    }
   ],
   "source": [
    "# Write a lambda function using reduce to find the minimum value in a list.\n",
    "l = [5,8,6,3,2,9]\n",
    "p = reduce(lambda x,y:x if x<y else y,l)\n",
    "print(p)"
   ]
  },
  {
   "cell_type": "code",
   "execution_count": 62,
   "id": "402d1ffc-3e08-452f-af9c-503c30eb145b",
   "metadata": {},
   "outputs": [
    {
     "name": "stdout",
     "output_type": "stream",
     "text": [
      "nitin khushbu radar civic yogesh\n"
     ]
    }
   ],
   "source": [
    "# 25. Write a lambda function using reduce to concatenate all strings in a list into a single sentence.\n",
    "st = ['nitin', 'khushbu','radar','civic','yogesh']\n",
    "p = reduce(lambda x,y:((x+\" \")+y),st)\n",
    "print(p)"
   ]
  },
  {
   "cell_type": "code",
   "execution_count": 66,
   "id": "e199f075-fe1b-4a49-a746-9780f8cec52a",
   "metadata": {},
   "outputs": [
    {
     "name": "stdout",
     "output_type": "stream",
     "text": [
      "28\n"
     ]
    }
   ],
   "source": [
    "# Write a lambda function using reduce to count the total number of characters in a list of strings.\n",
    "st = ['nitin', 'khushbu','radar','civic','yogesh']\n",
    "p = reduce(lambda x,y:x+len(y),st,0)\n",
    "print(p)"
   ]
  },
  {
   "cell_type": "code",
   "execution_count": 67,
   "id": "9e1d3fa7-26e4-4cce-a862-734850fe618c",
   "metadata": {},
   "outputs": [
    {
     "name": "stdout",
     "output_type": "stream",
     "text": [
      "28\n"
     ]
    }
   ],
   "source": [
    "m=0\n",
    "for i in st:\n",
    "    m = len(i)+m\n",
    "print(m)"
   ]
  },
  {
   "cell_type": "code",
   "execution_count": 69,
   "id": "ce4b1665-dce6-44cf-80b4-abb73f7fc3c1",
   "metadata": {},
   "outputs": [
    {
     "name": "stdout",
     "output_type": "stream",
     "text": [
      "[88, 91, 96, 83, 100, 71]\n"
     ]
    }
   ],
   "source": [
    "# Write a lambda function using map to apply a grading curve (+5 marks, max 100) to a list of student scores.\n",
    "marks  = [83,86,91,78,97,66]\n",
    "p = list(map(lambda x:x+5 if x+5 <100 else 100, marks))\n",
    "print(p)"
   ]
  },
  {
   "cell_type": "code",
   "execution_count": 77,
   "id": "64d0e75a-c623-4f6a-a5fc-248624c65858",
   "metadata": {},
   "outputs": [
    {
     "name": "stdout",
     "output_type": "stream",
     "text": [
      "['gmail.com', 'yahoo.com', 'gmail.com', 'gmail.com', 'yahoo.com', 'outlook.com', 'company.org']\n"
     ]
    }
   ],
   "source": [
    "# Write a lambda function using map to extract domain names from email addresses.\n",
    "emails = ['khushbu@gmail.com','ketan@yahoo.com','harshal@gmail.com',\"john@gmail.com\", \"sara@yahoo.com\", \"mike@outlook.com\", \"anna@company.org\"]\n",
    "p = list(map(lambda i:i.split('@')[1],emails))\n",
    "print(p)"
   ]
  },
  {
   "cell_type": "code",
   "execution_count": 102,
   "id": "eadf8e94-8b7c-4db2-be13-5982cdab1fed",
   "metadata": {},
   "outputs": [
    {
     "name": "stdout",
     "output_type": "stream",
     "text": [
      "[('mr. ketan', 'm'), ('ms.khushbu', 'f'), ('ms.anagha', 'f'), ('mr. paras', 'm')]\n"
     ]
    }
   ],
   "source": [
    "# Write a lambda function using map to prefix \"Mr.\" or \"Ms.\" to names based on a gender list.\n",
    "n = ['ketan','khushbu','anagha','paras']\n",
    "p = ['m','f','f','m']\n",
    "k = []\n",
    "m = []\n",
    "c= list(zip(n,p))\n",
    "for i in c:\n",
    "    if i[1]=='m':\n",
    "        k.append('mr. '+i[0])\n",
    "        m.append('m')\n",
    "    else:\n",
    "        k.append('ms.'+i[0])\n",
    "        m.append('f')\n",
    "a = list(zip(k,m))\n",
    "print(a)"
   ]
  },
  {
   "cell_type": "code",
   "execution_count": null,
   "id": "cebf3a05-92bc-4feb-806e-a3af40e1b434",
   "metadata": {},
   "outputs": [],
   "source": []
  }
 ],
 "metadata": {
  "kernelspec": {
   "display_name": "Python [conda env:base] *",
   "language": "python",
   "name": "conda-base-py"
  },
  "language_info": {
   "codemirror_mode": {
    "name": "ipython",
    "version": 3
   },
   "file_extension": ".py",
   "mimetype": "text/x-python",
   "name": "python",
   "nbconvert_exporter": "python",
   "pygments_lexer": "ipython3",
   "version": "3.12.7"
  }
 },
 "nbformat": 4,
 "nbformat_minor": 5
}
