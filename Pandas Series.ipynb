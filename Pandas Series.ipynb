{
 "cells": [
  {
   "cell_type": "code",
   "execution_count": 2,
   "id": "d5fcaae1-353c-4029-98dd-d2cee9df8b03",
   "metadata": {},
   "outputs": [],
   "source": [
    "import pandas as pd\n",
    "import numpy as np"
   ]
  },
  {
   "cell_type": "markdown",
   "id": "d72c6091-0494-4633-b2c4-36a786765d98",
   "metadata": {},
   "source": [
    "# Series"
   ]
  },
  {
   "cell_type": "markdown",
   "id": "e7b8de7d-0361-46f6-bce4-c242da3ad90f",
   "metadata": {},
   "source": [
    "\n",
    "### Series from list"
   ]
  },
  {
   "cell_type": "code",
   "execution_count": 3,
   "id": "2d10a922-aaca-432b-bea9-a8180c7571e2",
   "metadata": {},
   "outputs": [
    {
     "data": {
      "text/plain": [
       "0    Khushbu\n",
       "1      Ketan\n",
       "2    Harshal\n",
       "3    Vaibhav\n",
       "dtype: object"
      ]
     },
     "execution_count": 3,
     "metadata": {},
     "output_type": "execute_result"
    }
   ],
   "source": [
    "\n",
    "name = [\"Khushbu\",\"Ketan\",\"Harshal\",\"Vaibhav\"]\n",
    "pd.Series(name)"
   ]
  },
  {
   "cell_type": "code",
   "execution_count": 5,
   "id": "00d20d24-c615-4830-9368-f8279d7a6d41",
   "metadata": {},
   "outputs": [
    {
     "data": {
      "text/plain": [
       "0    90\n",
       "1    93\n",
       "2    85\n",
       "3    72\n",
       "dtype: int64"
      ]
     },
     "execution_count": 5,
     "metadata": {},
     "output_type": "execute_result"
    }
   ],
   "source": [
    "marks = [90,93,85,72]\n",
    "pd.Series(marks)"
   ]
  },
  {
   "cell_type": "code",
   "execution_count": 6,
   "id": "4acd93ee-1afe-4f76-bee8-7e2b0b09f03b",
   "metadata": {},
   "outputs": [],
   "source": [
    "subjects = [\"Hindi\",\"English\",\"Science\",\"Maths\"]"
   ]
  },
  {
   "cell_type": "code",
   "execution_count": 8,
   "id": "22edcd70-2534-4085-ba01-18757e0ffccf",
   "metadata": {},
   "outputs": [
    {
     "data": {
      "text/plain": [
       "Hindi      90\n",
       "English    93\n",
       "Science    85\n",
       "Maths      72\n",
       "dtype: int64"
      ]
     },
     "execution_count": 8,
     "metadata": {},
     "output_type": "execute_result"
    }
   ],
   "source": [
    "pd.Series(marks, index = subjects)"
   ]
  },
  {
   "cell_type": "code",
   "execution_count": 10,
   "id": "dae473d2-7d2b-47a5-8010-f393cb93e6ac",
   "metadata": {},
   "outputs": [
    {
     "data": {
      "text/plain": [
       "Hindi      90.0\n",
       "English    93.0\n",
       "Science    85.0\n",
       "Maths      72.0\n",
       "Name: Khushbu's marks, dtype: float64"
      ]
     },
     "execution_count": 10,
     "metadata": {},
     "output_type": "execute_result"
    }
   ],
   "source": [
    "pd.Series(marks, index = subjects, name = \"Khushbu's marks\", dtype = \"float\")"
   ]
  },
  {
   "cell_type": "markdown",
   "id": "ea21ed44-d7a4-4351-bef9-e96f93c7093c",
   "metadata": {},
   "source": [
    "### Series from tuple"
   ]
  },
  {
   "cell_type": "code",
   "execution_count": 12,
   "id": "55aefcfa-891c-4b6d-b5b4-30337444f92c",
   "metadata": {},
   "outputs": [
    {
     "data": {
      "text/plain": [
       "0    1\n",
       "1    2\n",
       "2    3\n",
       "3    6\n",
       "dtype: int64"
      ]
     },
     "execution_count": 12,
     "metadata": {},
     "output_type": "execute_result"
    }
   ],
   "source": [
    "abc = (1,2,3,6)\n",
    "pd.Series(abc)"
   ]
  },
  {
   "cell_type": "code",
   "execution_count": 14,
   "id": "39cecd12-e8e7-4803-8e4f-23c2ca5b07ba",
   "metadata": {},
   "outputs": [
    {
     "data": {
      "text/plain": [
       "a    1\n",
       "b    2\n",
       "c    3\n",
       "d    6\n",
       "dtype: int64"
      ]
     },
     "execution_count": 14,
     "metadata": {},
     "output_type": "execute_result"
    }
   ],
   "source": [
    "abc = (1,2,3,6)\n",
    "pd.Series(abc, index = ('a','b','c','d'))"
   ]
  },
  {
   "cell_type": "markdown",
   "id": "267128de-2aaf-4d11-a5d3-4dd99935cb69",
   "metadata": {},
   "source": [
    "### Series from Dictionary"
   ]
  },
  {
   "cell_type": "code",
   "execution_count": 15,
   "id": "2dda33e5-07d4-499a-ae04-e55b43bbf96b",
   "metadata": {},
   "outputs": [],
   "source": [
    "marks= {\n",
    "    \"Maths\":98,\n",
    "    \"Physics\":95,\n",
    "    \"Chemistry\":67,\n",
    "    \"English\":94,\n",
    "    \"Physical Education\":98,\n",
    "    \"Computer Science\":93\n",
    "}"
   ]
  },
  {
   "cell_type": "code",
   "execution_count": 16,
   "id": "ea44a3b2-71d5-4caf-9e0c-14affca169c2",
   "metadata": {},
   "outputs": [
    {
     "data": {
      "text/plain": [
       "Maths                 98\n",
       "Physics               95\n",
       "Chemistry             67\n",
       "English               94\n",
       "Physical Education    98\n",
       "Computer Science      93\n",
       "dtype: int64"
      ]
     },
     "execution_count": 16,
     "metadata": {},
     "output_type": "execute_result"
    }
   ],
   "source": [
    "a = pd.Series(marks)\n",
    "a"
   ]
  },
  {
   "cell_type": "code",
   "execution_count": 19,
   "id": "e224fafc-c090-4a84-a637-83d976bfdd64",
   "metadata": {},
   "outputs": [
    {
     "data": {
      "text/plain": [
       "95"
      ]
     },
     "execution_count": 19,
     "metadata": {},
     "output_type": "execute_result"
    }
   ],
   "source": [
    "a[\"Physics\"]"
   ]
  },
  {
   "cell_type": "markdown",
   "id": "a1b15c2b-d3bd-4580-872d-48ea8e0b9fa0",
   "metadata": {},
   "source": [
    "### Slicing and Indexing"
   ]
  },
  {
   "cell_type": "code",
   "execution_count": 23,
   "id": "9234f3a8-5911-4fa1-b86e-86c6c4af986b",
   "metadata": {},
   "outputs": [],
   "source": [
    "series = pd.Series((1,5,3,2,1,5,6,3,2,1,8,9,6,3,5), name = 'abc')"
   ]
  },
  {
   "cell_type": "code",
   "execution_count": 24,
   "id": "c5740494-ab5b-4ec3-9c05-7ac7e559b954",
   "metadata": {},
   "outputs": [
    {
     "data": {
      "text/plain": [
       "0     1\n",
       "1     5\n",
       "2     3\n",
       "3     2\n",
       "4     1\n",
       "5     5\n",
       "6     6\n",
       "7     3\n",
       "8     2\n",
       "9     1\n",
       "10    8\n",
       "11    9\n",
       "12    6\n",
       "13    3\n",
       "14    5\n",
       "Name: abc, dtype: int64"
      ]
     },
     "execution_count": 24,
     "metadata": {},
     "output_type": "execute_result"
    }
   ],
   "source": [
    "series"
   ]
  },
  {
   "cell_type": "code",
   "execution_count": 26,
   "id": "59853f21-20ed-4312-ac8c-51e9f9c9219d",
   "metadata": {},
   "outputs": [
    {
     "data": {
      "text/plain": [
       "1     5\n",
       "3     2\n",
       "5     5\n",
       "7     3\n",
       "9     1\n",
       "11    9\n",
       "Name: abc, dtype: int64"
      ]
     },
     "execution_count": 26,
     "metadata": {},
     "output_type": "execute_result"
    }
   ],
   "source": [
    "series[1:12:2]"
   ]
  },
  {
   "cell_type": "markdown",
   "id": "4851796e-9a1e-4aa5-86ca-cc4347e5fed3",
   "metadata": {},
   "source": [
    "#### Series Attributes"
   ]
  },
  {
   "cell_type": "code",
   "execution_count": 27,
   "id": "c7c42c18-3e2b-4e74-adf5-233dd5fa53e5",
   "metadata": {},
   "outputs": [
    {
     "data": {
      "text/plain": [
       "Maths                 98\n",
       "Physics               95\n",
       "Chemistry             67\n",
       "English               94\n",
       "Physical Education    98\n",
       "Computer Science      93\n",
       "dtype: int64"
      ]
     },
     "execution_count": 27,
     "metadata": {},
     "output_type": "execute_result"
    }
   ],
   "source": [
    "a"
   ]
  },
  {
   "cell_type": "code",
   "execution_count": 33,
   "id": "56e2212e-3847-49ed-ade5-b36400394471",
   "metadata": {},
   "outputs": [
    {
     "data": {
      "text/plain": [
       "15"
      ]
     },
     "execution_count": 33,
     "metadata": {},
     "output_type": "execute_result"
    }
   ],
   "source": [
    "series.size"
   ]
  },
  {
   "cell_type": "code",
   "execution_count": 34,
   "id": "e31742a6-9485-456c-b554-c323ebb5d8c4",
   "metadata": {},
   "outputs": [
    {
     "data": {
      "text/plain": [
       "dtype('int64')"
      ]
     },
     "execution_count": 34,
     "metadata": {},
     "output_type": "execute_result"
    }
   ],
   "source": [
    "series.dtype"
   ]
  },
  {
   "cell_type": "code",
   "execution_count": 35,
   "id": "a4417aee-1908-485c-b2f5-60ff1e58e6f9",
   "metadata": {},
   "outputs": [
    {
     "data": {
      "text/plain": [
       "'abc'"
      ]
     },
     "execution_count": 35,
     "metadata": {},
     "output_type": "execute_result"
    }
   ],
   "source": [
    "series.name"
   ]
  },
  {
   "cell_type": "code",
   "execution_count": 36,
   "id": "d6a4fa7a-f646-4399-940e-cfd57e4735a1",
   "metadata": {},
   "outputs": [
    {
     "data": {
      "text/plain": [
       "False"
      ]
     },
     "execution_count": 36,
     "metadata": {},
     "output_type": "execute_result"
    }
   ],
   "source": [
    "series.is_unique"
   ]
  },
  {
   "cell_type": "code",
   "execution_count": 37,
   "id": "4b779923-5f77-4a29-b1d8-1b0c8c790922",
   "metadata": {},
   "outputs": [
    {
     "data": {
      "text/plain": [
       "array([1, 5, 3, 2, 1, 5, 6, 3, 2, 1, 8, 9, 6, 3, 5], dtype=int64)"
      ]
     },
     "execution_count": 37,
     "metadata": {},
     "output_type": "execute_result"
    }
   ],
   "source": [
    "series.values"
   ]
  },
  {
   "cell_type": "code",
   "execution_count": 38,
   "id": "7609bbaf-0940-4bbe-8827-a77314013ff7",
   "metadata": {},
   "outputs": [
    {
     "data": {
      "text/plain": [
       "RangeIndex(start=0, stop=15, step=1)"
      ]
     },
     "execution_count": 38,
     "metadata": {},
     "output_type": "execute_result"
    }
   ],
   "source": [
    "series.index"
   ]
  },
  {
   "cell_type": "code",
   "execution_count": 39,
   "id": "0f6be5b4-3d72-4c60-ad4c-5968e8cdcd73",
   "metadata": {},
   "outputs": [
    {
     "data": {
      "text/plain": [
       "Index(['Maths', 'Physics', 'Chemistry', 'English', 'Physical Education',\n",
       "       'Computer Science'],\n",
       "      dtype='object')"
      ]
     },
     "execution_count": 39,
     "metadata": {},
     "output_type": "execute_result"
    }
   ],
   "source": [
    "a.index"
   ]
  },
  {
   "cell_type": "code",
   "execution_count": 40,
   "id": "9489b334-f842-49ca-93d7-89906069c28f",
   "metadata": {},
   "outputs": [
    {
     "data": {
      "text/plain": [
       "Maths                 98\n",
       "Physics               95\n",
       "Chemistry             67\n",
       "English               94\n",
       "Physical Education    98\n",
       "Computer Science      93\n",
       "dtype: int64"
      ]
     },
     "execution_count": 40,
     "metadata": {},
     "output_type": "execute_result"
    }
   ],
   "source": [
    "a"
   ]
  },
  {
   "cell_type": "code",
   "execution_count": 41,
   "id": "43942710-3de5-4b33-a42c-e7884c6965a0",
   "metadata": {},
   "outputs": [
    {
     "data": {
      "text/plain": [
       "array([1, 5, 3, 2, 6, 8, 9], dtype=int64)"
      ]
     },
     "execution_count": 41,
     "metadata": {},
     "output_type": "execute_result"
    }
   ],
   "source": [
    "series.unique()"
   ]
  },
  {
   "cell_type": "code",
   "execution_count": 42,
   "id": "0d380851-1117-416f-aed4-74be7c6e2113",
   "metadata": {},
   "outputs": [
    {
     "data": {
      "text/plain": [
       "abc\n",
       "1    3\n",
       "5    3\n",
       "3    3\n",
       "2    2\n",
       "6    2\n",
       "8    1\n",
       "9    1\n",
       "Name: count, dtype: int64"
      ]
     },
     "execution_count": 42,
     "metadata": {},
     "output_type": "execute_result"
    }
   ],
   "source": [
    "series.value_counts()"
   ]
  },
  {
   "cell_type": "code",
   "execution_count": 43,
   "id": "cf0a0db5-066c-45ec-a4ed-1ff6729c76a9",
   "metadata": {},
   "outputs": [],
   "source": [
    "# updating value"
   ]
  },
  {
   "cell_type": "code",
   "execution_count": 44,
   "id": "5aba6e0b-40ae-4fdb-8129-109981f3fd2e",
   "metadata": {},
   "outputs": [
    {
     "data": {
      "text/plain": [
       "Maths                 98\n",
       "Physics               95\n",
       "Chemistry             67\n",
       "English               94\n",
       "Physical Education    98\n",
       "Computer Science      93\n",
       "dtype: int64"
      ]
     },
     "execution_count": 44,
     "metadata": {},
     "output_type": "execute_result"
    }
   ],
   "source": [
    "a"
   ]
  },
  {
   "cell_type": "code",
   "execution_count": 45,
   "id": "ea3a92b4-bc97-4f1b-9e89-153f849c7cf2",
   "metadata": {},
   "outputs": [],
   "source": [
    "a[\"English\"] = 97"
   ]
  },
  {
   "cell_type": "code",
   "execution_count": 46,
   "id": "1cd8bea1-4395-4396-9581-d2b6ba20d31b",
   "metadata": {},
   "outputs": [
    {
     "data": {
      "text/plain": [
       "Maths                 98\n",
       "Physics               95\n",
       "Chemistry             67\n",
       "English               97\n",
       "Physical Education    98\n",
       "Computer Science      93\n",
       "dtype: int64"
      ]
     },
     "execution_count": 46,
     "metadata": {},
     "output_type": "execute_result"
    }
   ],
   "source": [
    "a"
   ]
  },
  {
   "cell_type": "code",
   "execution_count": 47,
   "id": "0d977a5a-f7d3-423b-a479-fef2514dc4b9",
   "metadata": {},
   "outputs": [],
   "source": [
    "# Adding value\n",
    "a[\"Music\"] = 87"
   ]
  },
  {
   "cell_type": "code",
   "execution_count": 48,
   "id": "904e46eb-d063-42e6-92e6-10f9de84beaf",
   "metadata": {},
   "outputs": [
    {
     "data": {
      "text/plain": [
       "Maths                 98\n",
       "Physics               95\n",
       "Chemistry             67\n",
       "English               97\n",
       "Physical Education    98\n",
       "Computer Science      93\n",
       "Music                 87\n",
       "dtype: int64"
      ]
     },
     "execution_count": 48,
     "metadata": {},
     "output_type": "execute_result"
    }
   ],
   "source": [
    "a"
   ]
  },
  {
   "cell_type": "code",
   "execution_count": 49,
   "id": "4d47ed69-003a-4291-a7e0-e9c27286e8c0",
   "metadata": {},
   "outputs": [
    {
     "data": {
      "text/plain": [
       "Maths                 98\n",
       "Physics               95\n",
       "Chemistry             67\n",
       "English               97\n",
       "Physical Education    98\n",
       "Computer Science      93\n",
       "dtype: int64"
      ]
     },
     "execution_count": 49,
     "metadata": {},
     "output_type": "execute_result"
    }
   ],
   "source": [
    "# Dropping value\n",
    "a.drop(\"Music\")"
   ]
  },
  {
   "cell_type": "code",
   "execution_count": 50,
   "id": "3fbf72a0-e6cf-489f-817e-87ef5fb71dea",
   "metadata": {},
   "outputs": [
    {
     "data": {
      "text/plain": [
       "Maths                 98\n",
       "Physics               95\n",
       "Chemistry             67\n",
       "English               97\n",
       "Physical Education    98\n",
       "Computer Science      93\n",
       "Music                 87\n",
       "dtype: int64"
      ]
     },
     "execution_count": 50,
     "metadata": {},
     "output_type": "execute_result"
    }
   ],
   "source": [
    "a"
   ]
  },
  {
   "cell_type": "code",
   "execution_count": 51,
   "id": "cfb371e3-d283-4ba1-baf1-d1ba2e6347e1",
   "metadata": {},
   "outputs": [],
   "source": [
    "a.drop(\"Music\",inplace = True)"
   ]
  },
  {
   "cell_type": "code",
   "execution_count": 52,
   "id": "e905fccc-a401-4254-99ca-18289db1cbe1",
   "metadata": {},
   "outputs": [
    {
     "data": {
      "text/plain": [
       "Maths                 98\n",
       "Physics               95\n",
       "Chemistry             67\n",
       "English               97\n",
       "Physical Education    98\n",
       "Computer Science      93\n",
       "dtype: int64"
      ]
     },
     "execution_count": 52,
     "metadata": {},
     "output_type": "execute_result"
    }
   ],
   "source": [
    "a"
   ]
  },
  {
   "cell_type": "code",
   "execution_count": 53,
   "id": "0dcd8827-736c-4731-93ff-a1ab1bb2aaa4",
   "metadata": {},
   "outputs": [
    {
     "data": {
      "text/plain": [
       "Maths                 198\n",
       "Physics               195\n",
       "Chemistry             167\n",
       "English               197\n",
       "Physical Education    198\n",
       "Computer Science      193\n",
       "dtype: int64"
      ]
     },
     "execution_count": 53,
     "metadata": {},
     "output_type": "execute_result"
    }
   ],
   "source": [
    "# Arithmatic Operation\n",
    "a+100"
   ]
  },
  {
   "cell_type": "code",
   "execution_count": 57,
   "id": "5b42f69c-6f04-4354-923b-8441b9bb72d5",
   "metadata": {},
   "outputs": [
    {
     "data": {
      "text/plain": [
       "Maths                  True\n",
       "Physics               False\n",
       "Chemistry             False\n",
       "English                True\n",
       "Physical Education     True\n",
       "Computer Science      False\n",
       "dtype: bool"
      ]
     },
     "execution_count": 57,
     "metadata": {},
     "output_type": "execute_result"
    }
   ],
   "source": [
    "#Comparision Operation\n",
    "a>95"
   ]
  },
  {
   "cell_type": "code",
   "execution_count": 58,
   "id": "0723fcec-8ecb-44e8-8a3c-d88be72c70b2",
   "metadata": {},
   "outputs": [
    {
     "data": {
      "text/plain": [
       "Maths                 98\n",
       "English               97\n",
       "Physical Education    98\n",
       "dtype: int64"
      ]
     },
     "execution_count": 58,
     "metadata": {},
     "output_type": "execute_result"
    }
   ],
   "source": [
    "a[a>95]"
   ]
  },
  {
   "cell_type": "code",
   "execution_count": 59,
   "id": "fd6ab14c-e6ad-4763-b201-89ba5dcd15c7",
   "metadata": {},
   "outputs": [],
   "source": [
    "series = pd.Series(range(0,10000,5), index= (i for i in range(100, 200100, 100)))"
   ]
  },
  {
   "cell_type": "code",
   "execution_count": 60,
   "id": "3a9613a7-d21c-456d-8405-a1fc4f261fe0",
   "metadata": {},
   "outputs": [
    {
     "data": {
      "text/plain": [
       "100          0\n",
       "200          5\n",
       "300         10\n",
       "400         15\n",
       "500         20\n",
       "          ... \n",
       "199600    9975\n",
       "199700    9980\n",
       "199800    9985\n",
       "199900    9990\n",
       "200000    9995\n",
       "Length: 2000, dtype: int64"
      ]
     },
     "execution_count": 60,
     "metadata": {},
     "output_type": "execute_result"
    }
   ],
   "source": [
    "series"
   ]
  },
  {
   "cell_type": "code",
   "execution_count": 61,
   "id": "a58c1731-d68f-4049-8205-540a70f89a33",
   "metadata": {},
   "outputs": [
    {
     "data": {
      "text/plain": [
       "100     0\n",
       "200     5\n",
       "300    10\n",
       "400    15\n",
       "500    20\n",
       "dtype: int64"
      ]
     },
     "execution_count": 61,
     "metadata": {},
     "output_type": "execute_result"
    }
   ],
   "source": [
    "series.head()"
   ]
  },
  {
   "cell_type": "code",
   "execution_count": 62,
   "id": "aab718e3-1433-45b4-9222-ca163452ab2d",
   "metadata": {},
   "outputs": [
    {
     "data": {
      "text/plain": [
       "199800    9985\n",
       "199900    9990\n",
       "200000    9995\n",
       "dtype: int64"
      ]
     },
     "execution_count": 62,
     "metadata": {},
     "output_type": "execute_result"
    }
   ],
   "source": [
    "series.tail(3)"
   ]
  },
  {
   "cell_type": "code",
   "execution_count": 63,
   "id": "5a948212-7053-4bf6-a104-13101341ed06",
   "metadata": {},
   "outputs": [
    {
     "data": {
      "text/plain": [
       "180800    9035\n",
       "6900       340\n",
       "23900     1190\n",
       "122800    6135\n",
       "111700    5580\n",
       "147900    7390\n",
       "19800      985\n",
       "dtype: int64"
      ]
     },
     "execution_count": 63,
     "metadata": {},
     "output_type": "execute_result"
    }
   ],
   "source": [
    "series.sample(7)"
   ]
  },
  {
   "cell_type": "code",
   "execution_count": 64,
   "id": "fa3b4172-f507-4a56-ac6d-c4f9a892701e",
   "metadata": {},
   "outputs": [],
   "source": [
    "import random"
   ]
  },
  {
   "cell_type": "code",
   "execution_count": 65,
   "id": "99d67823-ebfb-49e5-9132-8540cb992352",
   "metadata": {},
   "outputs": [],
   "source": [
    "names = [\n",
    "'Amit', 'Ravi', 'Suresh', 'Priya', 'Anita', 'Vikas', 'Neha', 'Shreya', 'Rahul', 'Siddharth',\n",
    "'Sonia', 'Varun', 'Rajesh', 'Aarti', 'Deepak', 'Kiran', 'Pooja', 'Rohit', 'Isha', 'Anjali',\n",
    "'Sandeep', 'Tanvi', 'Maya', 'Nisha', 'Aman', 'Yash', 'Kavita', 'Aakash', 'Sonali', 'Manish',\n",
    "'Bhavesh', 'Siddhi', 'Neelam', 'Nikhil', 'Ashwini', 'Vishal', 'Sakshi', 'Kunal', 'Ritika',\n",
    "'Parth', 'Tanuja', 'Shubham', 'Nikita', 'Harish', 'Pratik', 'Kriti', 'Geeta', 'Avi', 'Arun',\"Ajay\",\"Akshay\", \"Shyam\",\"Pranav\"\n",
    "]"
   ]
  },
  {
   "cell_type": "code",
   "execution_count": 88,
   "id": "42f7cfa4-e7e1-4195-b575-69da0228d208",
   "metadata": {},
   "outputs": [],
   "source": [
    "student_marks = pd.Series([random.randint(80,100) for i in range(53)], index = names)"
   ]
  },
  {
   "cell_type": "code",
   "execution_count": 89,
   "id": "e228d2ac-e5e4-4917-ae68-e6a090185407",
   "metadata": {},
   "outputs": [
    {
     "data": {
      "text/plain": [
       "53"
      ]
     },
     "execution_count": 89,
     "metadata": {},
     "output_type": "execute_result"
    }
   ],
   "source": [
    "len(names)"
   ]
  },
  {
   "cell_type": "code",
   "execution_count": 90,
   "id": "c3baff99-cd99-4327-95d9-b60b9a67c045",
   "metadata": {},
   "outputs": [
    {
     "data": {
      "text/plain": [
       "Amit          94\n",
       "Ravi          95\n",
       "Suresh        91\n",
       "Priya         80\n",
       "Anita         96\n",
       "Vikas         99\n",
       "Neha          95\n",
       "Shreya        83\n",
       "Rahul        100\n",
       "Siddharth     89\n",
       "Sonia         94\n",
       "Varun         94\n",
       "Rajesh       100\n",
       "Aarti         85\n",
       "Deepak        83\n",
       "Kiran         80\n",
       "Pooja         86\n",
       "Rohit         87\n",
       "Isha          80\n",
       "Anjali        86\n",
       "Sandeep       92\n",
       "Tanvi         96\n",
       "Maya          88\n",
       "Nisha         86\n",
       "Aman          85\n",
       "Yash          81\n",
       "Kavita        86\n",
       "Aakash        84\n",
       "Sonali        94\n",
       "Manish        81\n",
       "Bhavesh       84\n",
       "Siddhi        94\n",
       "Neelam       100\n",
       "Nikhil        97\n",
       "Ashwini       84\n",
       "Vishal        90\n",
       "Sakshi        96\n",
       "Kunal         85\n",
       "Ritika        90\n",
       "Parth         83\n",
       "Tanuja        89\n",
       "Shubham       80\n",
       "Nikita        92\n",
       "Harish        86\n",
       "Pratik        98\n",
       "Kriti         96\n",
       "Geeta         92\n",
       "Avi           95\n",
       "Arun          96\n",
       "Ajay          96\n",
       "Akshay        95\n",
       "Shyam         90\n",
       "Pranav        88\n",
       "dtype: int64"
      ]
     },
     "execution_count": 90,
     "metadata": {},
     "output_type": "execute_result"
    }
   ],
   "source": [
    "student_marks"
   ]
  },
  {
   "cell_type": "code",
   "execution_count": 91,
   "id": "bc7861e7-a9e8-4865-9b96-3b3fcee83334",
   "metadata": {},
   "outputs": [
    {
     "data": {
      "text/plain": [
       "53"
      ]
     },
     "execution_count": 91,
     "metadata": {},
     "output_type": "execute_result"
    }
   ],
   "source": [
    "student_marks.count()"
   ]
  },
  {
   "cell_type": "code",
   "execution_count": 92,
   "id": "54f2fbfc-ee53-4849-b139-9a948bd33f99",
   "metadata": {},
   "outputs": [
    {
     "data": {
      "text/plain": [
       "53"
      ]
     },
     "execution_count": 92,
     "metadata": {},
     "output_type": "execute_result"
    }
   ],
   "source": [
    "len(student_marks)"
   ]
  },
  {
   "cell_type": "code",
   "execution_count": 93,
   "id": "9718840b-0bfa-4be5-a3e7-d597427033ee",
   "metadata": {},
   "outputs": [
    {
     "data": {
      "text/plain": [
       "89.9245283018868"
      ]
     },
     "execution_count": 93,
     "metadata": {},
     "output_type": "execute_result"
    }
   ],
   "source": [
    "student_marks.mean()"
   ]
  },
  {
   "cell_type": "code",
   "execution_count": 94,
   "id": "8fd7281e-ef0c-4656-bf86-4802fc2e8ba9",
   "metadata": {},
   "outputs": [
    {
     "data": {
      "text/plain": [
       "4766"
      ]
     },
     "execution_count": 94,
     "metadata": {},
     "output_type": "execute_result"
    }
   ],
   "source": [
    "student_marks.sum()"
   ]
  },
  {
   "cell_type": "code",
   "execution_count": 95,
   "id": "d775d9dc-4a21-4ae6-865d-3c4c0bf4d2ac",
   "metadata": {},
   "outputs": [
    {
     "data": {
      "text/plain": [
       "90.0"
      ]
     },
     "execution_count": 95,
     "metadata": {},
     "output_type": "execute_result"
    }
   ],
   "source": [
    "student_marks.median()"
   ]
  },
  {
   "cell_type": "code",
   "execution_count": 96,
   "id": "159d43bb-6637-462e-93b5-0f64a004a7db",
   "metadata": {},
   "outputs": [
    {
     "data": {
      "text/plain": [
       "100"
      ]
     },
     "execution_count": 96,
     "metadata": {},
     "output_type": "execute_result"
    }
   ],
   "source": [
    "student_marks.max()"
   ]
  },
  {
   "cell_type": "code",
   "execution_count": 97,
   "id": "70be1e8e-388e-4703-940b-739236190e26",
   "metadata": {},
   "outputs": [
    {
     "data": {
      "text/plain": [
       "80"
      ]
     },
     "execution_count": 97,
     "metadata": {},
     "output_type": "execute_result"
    }
   ],
   "source": [
    "student_marks.min()"
   ]
  },
  {
   "cell_type": "code",
   "execution_count": 98,
   "id": "1bd2a00f-1bf4-4e5c-a203-29d181c83bf4",
   "metadata": {},
   "outputs": [
    {
     "data": {
      "text/plain": [
       "96"
      ]
     },
     "execution_count": 98,
     "metadata": {},
     "output_type": "execute_result"
    }
   ],
   "source": [
    "student_marks.mode()[0]"
   ]
  },
  {
   "cell_type": "code",
   "execution_count": 99,
   "id": "c42e2b7f-575e-4556-a41f-b79eab2f6e19",
   "metadata": {},
   "outputs": [
    {
     "data": {
      "text/plain": [
       "6.034672435835889"
      ]
     },
     "execution_count": 99,
     "metadata": {},
     "output_type": "execute_result"
    }
   ],
   "source": [
    "student_marks.std()"
   ]
  },
  {
   "cell_type": "code",
   "execution_count": 100,
   "id": "7d7d9c11-71e6-4c2b-85a9-c880822ff406",
   "metadata": {},
   "outputs": [
    {
     "data": {
      "text/plain": [
       "36.417271407837454"
      ]
     },
     "execution_count": 100,
     "metadata": {},
     "output_type": "execute_result"
    }
   ],
   "source": [
    "student_marks.var()"
   ]
  },
  {
   "cell_type": "code",
   "execution_count": 101,
   "id": "1d23936c-cb9f-49dd-b559-d967f9456071",
   "metadata": {},
   "outputs": [
    {
     "data": {
      "text/plain": [
       "count     53.000000\n",
       "mean      89.924528\n",
       "std        6.034672\n",
       "min       80.000000\n",
       "25%       85.000000\n",
       "50%       90.000000\n",
       "75%       95.000000\n",
       "max      100.000000\n",
       "dtype: float64"
      ]
     },
     "execution_count": 101,
     "metadata": {},
     "output_type": "execute_result"
    }
   ],
   "source": [
    "# 8 Point summary\n",
    "student_marks.describe()"
   ]
  },
  {
   "cell_type": "code",
   "execution_count": 102,
   "id": "35a4afda-f1b9-4f88-bf19-921b352fad6e",
   "metadata": {},
   "outputs": [
    {
     "data": {
      "text/plain": [
       "array([ 94,  95,  91,  80,  96,  99,  83, 100,  89,  85,  86,  87,  92,\n",
       "        88,  81,  84,  97,  90,  98], dtype=int64)"
      ]
     },
     "execution_count": 102,
     "metadata": {},
     "output_type": "execute_result"
    }
   ],
   "source": [
    "student_marks.unique()"
   ]
  },
  {
   "cell_type": "code",
   "execution_count": 103,
   "id": "8d942239-e2e6-46f7-8b75-1a3a2b42acac",
   "metadata": {},
   "outputs": [
    {
     "data": {
      "text/plain": [
       "19"
      ]
     },
     "execution_count": 103,
     "metadata": {},
     "output_type": "execute_result"
    }
   ],
   "source": [
    "student_marks.nunique()"
   ]
  },
  {
   "cell_type": "code",
   "execution_count": 104,
   "id": "44d8ea6c-5df7-49b5-97a1-223c9e3a9990",
   "metadata": {},
   "outputs": [
    {
     "data": {
      "text/plain": [
       "96     6\n",
       "94     5\n",
       "86     5\n",
       "95     4\n",
       "80     4\n",
       "90     3\n",
       "84     3\n",
       "92     3\n",
       "85     3\n",
       "100    3\n",
       "83     3\n",
       "89     2\n",
       "88     2\n",
       "81     2\n",
       "87     1\n",
       "99     1\n",
       "97     1\n",
       "91     1\n",
       "98     1\n",
       "Name: count, dtype: int64"
      ]
     },
     "execution_count": 104,
     "metadata": {},
     "output_type": "execute_result"
    }
   ],
   "source": [
    "student_marks.value_counts()"
   ]
  },
  {
   "cell_type": "code",
   "execution_count": 105,
   "id": "6eb0b1fd-9c8b-4324-94d6-83cfb5539a81",
   "metadata": {},
   "outputs": [
    {
     "data": {
      "text/plain": [
       "Index(['Amit', 'Ravi', 'Suresh', 'Priya', 'Anita', 'Vikas', 'Neha', 'Shreya',\n",
       "       'Rahul', 'Siddharth', 'Sonia', 'Varun', 'Rajesh', 'Aarti', 'Deepak',\n",
       "       'Kiran', 'Pooja', 'Rohit', 'Isha', 'Anjali', 'Sandeep', 'Tanvi', 'Maya',\n",
       "       'Nisha', 'Aman', 'Yash', 'Kavita', 'Aakash', 'Sonali', 'Manish',\n",
       "       'Bhavesh', 'Siddhi', 'Neelam', 'Nikhil', 'Ashwini', 'Vishal', 'Sakshi',\n",
       "       'Kunal', 'Ritika', 'Parth', 'Tanuja', 'Shubham', 'Nikita', 'Harish',\n",
       "       'Pratik', 'Kriti', 'Geeta', 'Avi', 'Arun', 'Ajay', 'Akshay', 'Shyam',\n",
       "       'Pranav'],\n",
       "      dtype='object')"
      ]
     },
     "execution_count": 105,
     "metadata": {},
     "output_type": "execute_result"
    }
   ],
   "source": [
    "student_marks.index"
   ]
  },
  {
   "cell_type": "code",
   "execution_count": 106,
   "id": "8de32e5e-3321-43da-9301-c4f6ec8a7202",
   "metadata": {},
   "outputs": [
    {
     "data": {
      "text/plain": [
       "array([ 94,  95,  91,  80,  96,  99,  95,  83, 100,  89,  94,  94, 100,\n",
       "        85,  83,  80,  86,  87,  80,  86,  92,  96,  88,  86,  85,  81,\n",
       "        86,  84,  94,  81,  84,  94, 100,  97,  84,  90,  96,  85,  90,\n",
       "        83,  89,  80,  92,  86,  98,  96,  92,  95,  96,  96,  95,  90,\n",
       "        88], dtype=int64)"
      ]
     },
     "execution_count": 106,
     "metadata": {},
     "output_type": "execute_result"
    }
   ],
   "source": [
    "student_marks.values"
   ]
  },
  {
   "cell_type": "code",
   "execution_count": 107,
   "id": "a116a757-ba72-4dd2-b322-2ea77ded1331",
   "metadata": {},
   "outputs": [
    {
     "data": {
      "text/plain": [
       "Shubham       80\n",
       "Priya         80\n",
       "Isha          80\n",
       "Kiran         80\n",
       "Manish        81\n",
       "Yash          81\n",
       "Parth         83\n",
       "Shreya        83\n",
       "Deepak        83\n",
       "Aakash        84\n",
       "Ashwini       84\n",
       "Bhavesh       84\n",
       "Kunal         85\n",
       "Aman          85\n",
       "Aarti         85\n",
       "Anjali        86\n",
       "Kavita        86\n",
       "Nisha         86\n",
       "Harish        86\n",
       "Pooja         86\n",
       "Rohit         87\n",
       "Maya          88\n",
       "Pranav        88\n",
       "Tanuja        89\n",
       "Siddharth     89\n",
       "Shyam         90\n",
       "Ritika        90\n",
       "Vishal        90\n",
       "Suresh        91\n",
       "Sandeep       92\n",
       "Geeta         92\n",
       "Nikita        92\n",
       "Amit          94\n",
       "Varun         94\n",
       "Siddhi        94\n",
       "Sonali        94\n",
       "Sonia         94\n",
       "Neha          95\n",
       "Akshay        95\n",
       "Ravi          95\n",
       "Avi           95\n",
       "Sakshi        96\n",
       "Tanvi         96\n",
       "Anita         96\n",
       "Ajay          96\n",
       "Arun          96\n",
       "Kriti         96\n",
       "Nikhil        97\n",
       "Pratik        98\n",
       "Vikas         99\n",
       "Neelam       100\n",
       "Rahul        100\n",
       "Rajesh       100\n",
       "dtype: int64"
      ]
     },
     "execution_count": 107,
     "metadata": {},
     "output_type": "execute_result"
    }
   ],
   "source": [
    "student_marks.sort_values()"
   ]
  },
  {
   "cell_type": "code",
   "execution_count": 110,
   "id": "118038f2-5dae-4945-a737-6005e0c7e987",
   "metadata": {},
   "outputs": [],
   "source": [
    "student_marks.sort_values(ascending=False, inplace = True)"
   ]
  },
  {
   "cell_type": "code",
   "execution_count": 111,
   "id": "4cf642e5-0691-4030-bb82-d8e3a1734043",
   "metadata": {},
   "outputs": [
    {
     "data": {
      "text/plain": [
       "Neelam       100\n",
       "Rahul        100\n",
       "Rajesh       100\n",
       "Vikas         99\n",
       "Pratik        98\n",
       "Nikhil        97\n",
       "Ajay          96\n",
       "Anita         96\n",
       "Sakshi        96\n",
       "Tanvi         96\n",
       "Kriti         96\n",
       "Arun          96\n",
       "Ravi          95\n",
       "Avi           95\n",
       "Akshay        95\n",
       "Neha          95\n",
       "Varun         94\n",
       "Siddhi        94\n",
       "Sonia         94\n",
       "Sonali        94\n",
       "Amit          94\n",
       "Geeta         92\n",
       "Nikita        92\n",
       "Sandeep       92\n",
       "Suresh        91\n",
       "Ritika        90\n",
       "Vishal        90\n",
       "Shyam         90\n",
       "Siddharth     89\n",
       "Tanuja        89\n",
       "Pranav        88\n",
       "Maya          88\n",
       "Rohit         87\n",
       "Anjali        86\n",
       "Nisha         86\n",
       "Pooja         86\n",
       "Harish        86\n",
       "Kavita        86\n",
       "Kunal         85\n",
       "Aman          85\n",
       "Aarti         85\n",
       "Ashwini       84\n",
       "Aakash        84\n",
       "Bhavesh       84\n",
       "Parth         83\n",
       "Deepak        83\n",
       "Shreya        83\n",
       "Manish        81\n",
       "Yash          81\n",
       "Shubham       80\n",
       "Isha          80\n",
       "Kiran         80\n",
       "Priya         80\n",
       "dtype: int64"
      ]
     },
     "execution_count": 111,
     "metadata": {},
     "output_type": "execute_result"
    }
   ],
   "source": [
    "student_marks"
   ]
  },
  {
   "cell_type": "markdown",
   "id": "d443757a-f15c-424f-91ab-6bf0e064c669",
   "metadata": {},
   "source": [
    "#### Filtering of data"
   ]
  },
  {
   "cell_type": "code",
   "execution_count": 114,
   "id": "4eb357b8-9588-4af6-96e3-6745dae517a8",
   "metadata": {},
   "outputs": [
    {
     "data": {
      "text/plain": [
       "Index(['Neelam', 'Rahul', 'Rajesh', 'Vikas', 'Pratik', 'Nikhil', 'Ajay',\n",
       "       'Anita', 'Sakshi', 'Tanvi', 'Kriti', 'Arun', 'Ravi', 'Avi', 'Akshay',\n",
       "       'Neha', 'Varun', 'Siddhi', 'Sonia', 'Sonali', 'Amit', 'Geeta', 'Nikita',\n",
       "       'Sandeep', 'Suresh'],\n",
       "      dtype='object')"
      ]
     },
     "execution_count": 114,
     "metadata": {},
     "output_type": "execute_result"
    }
   ],
   "source": [
    "# Name of students who scored more than 90 marks\n",
    "student_marks[student_marks>90].index"
   ]
  },
  {
   "cell_type": "code",
   "execution_count": 120,
   "id": "e5a141b0-55c3-4e3a-9381-9253142245a4",
   "metadata": {},
   "outputs": [
    {
     "data": {
      "text/plain": [
       "20"
      ]
     },
     "execution_count": 120,
     "metadata": {},
     "output_type": "execute_result"
    }
   ],
   "source": [
    "# Count of students who scored less than 87 marks\n",
    "student_marks[student_marks<87].size"
   ]
  },
  {
   "cell_type": "code",
   "execution_count": 124,
   "id": "2ca4625e-5c48-4be0-a9e6-653e343ac89c",
   "metadata": {},
   "outputs": [
    {
     "data": {
      "text/plain": [
       "Ravi         95\n",
       "Avi          95\n",
       "Akshay       95\n",
       "Neha         95\n",
       "Varun        94\n",
       "Siddhi       94\n",
       "Sonia        94\n",
       "Sonali       94\n",
       "Amit         94\n",
       "Geeta        92\n",
       "Nikita       92\n",
       "Sandeep      92\n",
       "Suresh       91\n",
       "Ritika       90\n",
       "Vishal       90\n",
       "Shyam        90\n",
       "Siddharth    89\n",
       "Tanuja       89\n",
       "Pranav       88\n",
       "Maya         88\n",
       "Rohit        87\n",
       "Anjali       86\n",
       "Nisha        86\n",
       "Pooja        86\n",
       "Harish       86\n",
       "Kavita       86\n",
       "Kunal        85\n",
       "Aman         85\n",
       "Aarti        85\n",
       "dtype: int64"
      ]
     },
     "execution_count": 124,
     "metadata": {},
     "output_type": "execute_result"
    }
   ],
   "source": [
    "# Name of students who scored between 85 and 95\n",
    "student_marks[(student_marks >=85) & (student_marks<=95)]"
   ]
  },
  {
   "cell_type": "code",
   "execution_count": null,
   "id": "cd1062e4-7047-4448-83f8-e081732bba7e",
   "metadata": {},
   "outputs": [],
   "source": []
  }
 ],
 "metadata": {
  "kernelspec": {
   "display_name": "Python [conda env:base] *",
   "language": "python",
   "name": "conda-base-py"
  },
  "language_info": {
   "codemirror_mode": {
    "name": "ipython",
    "version": 3
   },
   "file_extension": ".py",
   "mimetype": "text/x-python",
   "name": "python",
   "nbconvert_exporter": "python",
   "pygments_lexer": "ipython3",
   "version": "3.12.7"
  }
 },
 "nbformat": 4,
 "nbformat_minor": 5
}
