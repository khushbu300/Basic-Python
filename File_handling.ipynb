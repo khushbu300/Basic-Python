{
 "cells": [
  {
   "cell_type": "code",
   "execution_count": 5,
   "id": "db7fd5d2-81e9-4536-9782-602865411b3a",
   "metadata": {},
   "outputs": [],
   "source": [
    "# Write a Python program to create a text file named intro.txt and write your name and age into it.\n",
    "with open(r\"C:\\Users\\khush\\Ethans Classes\\Basic Python\\intro.txt\",\"w\") as f:\n",
    "    f.write(\"Khushbu Randive\\n\")\n",
    "    f.write('28')\n",
    "    "
   ]
  },
  {
   "cell_type": "code",
   "execution_count": 7,
   "id": "7c3336d0-86fa-40dd-8004-e67322f10e61",
   "metadata": {},
   "outputs": [
    {
     "name": "stdout",
     "output_type": "stream",
     "text": [
      "Khushbu Randive\n",
      "28\n"
     ]
    }
   ],
   "source": [
    "# Write a program to read and display the content of intro.txt.\n",
    "with open(r\"C:\\Users\\khush\\Ethans Classes\\Basic Python\\intro.txt\",'r') as f:\n",
    "    data = f.read()\n",
    "    print(data)\n"
   ]
  },
  {
   "cell_type": "code",
   "execution_count": 17,
   "id": "ef7e2433-d486-4dcd-982f-e73f8ae9cdec",
   "metadata": {},
   "outputs": [],
   "source": [
    "# Write a program to create a file named data.txt.\n",
    "with open(\"data.txt\",'w') as f:\n",
    "    f.write('My name is khushbu')\n",
    "    f.write('\\nI live in Wakad\\n')\n",
    "    f.write('I am leaning Data Science now a days')"
   ]
  },
  {
   "cell_type": "code",
   "execution_count": 22,
   "id": "46f03e29-4f53-4cb5-bee1-161a7712a8ab",
   "metadata": {},
   "outputs": [
    {
     "name": "stdout",
     "output_type": "stream",
     "text": [
      "My name is khushbu\n",
      "I live in Wakad\n",
      "I am leaning Data Science now a days\n",
      "\n",
      "Total number of characters in the given file are: 58\n"
     ]
    }
   ],
   "source": [
    "# Write a program to count the number of characters in a file named data.txt.\n",
    "with open(\"data.txt\",'r') as f:\n",
    "    data = f.read()\n",
    "    print(data)\n",
    "    c = 0\n",
    "    for i in data:\n",
    "        if i != ' ':\n",
    "            c=c+1\n",
    "    print()\n",
    "    print(\"Total number of characters in the given file are:\", c)"
   ]
  },
  {
   "cell_type": "code",
   "execution_count": 26,
   "id": "2b88e990-9679-48b7-bc64-64ddc54dfac0",
   "metadata": {},
   "outputs": [
    {
     "name": "stdout",
     "output_type": "stream",
     "text": [
      "Total number of lines are: 3\n"
     ]
    }
   ],
   "source": [
    "# Write a program to count the number of lines in data.txt.\n",
    "with open(\"data.txt\",'r') as f:\n",
    "    data = f.read()\n",
    "    c = 0\n",
    "    for i in data:\n",
    "        if i == \"\\n\":\n",
    "            c = c + 1\n",
    "    print(\"Total number of lines are:\",c+1)"
   ]
  },
  {
   "cell_type": "code",
   "execution_count": 42,
   "id": "093a4ca9-255e-46a3-9b3e-a68c6b12c7cb",
   "metadata": {},
   "outputs": [
    {
     "name": "stdout",
     "output_type": "stream",
     "text": [
      "0\n",
      "Python word occured 2 times\n"
     ]
    }
   ],
   "source": [
    "# Write a program to count how many times the word \"Python\" appears in notes.txt.\n",
    "with open(\"notes.txt\",'w+') as f:\n",
    "    f.writelines(\"I am learning python now a days. \\n And I am enjoing python very much.\")\n",
    "    print(f.seek(0))\n",
    "    data = f.read()\n",
    "    c = 0\n",
    "    sp = data.split()\n",
    "    for i in sp:\n",
    "        if i == 'python' or i == 'Python':\n",
    "            c = c +1\n",
    "    print(f\"Python word occured {c} times\")"
   ]
  },
  {
   "cell_type": "code",
   "execution_count": 52,
   "id": "b51c4bc7-60c2-4edd-9536-752cc5f2d469",
   "metadata": {},
   "outputs": [
    {
     "name": "stdout",
     "output_type": "stream",
     "text": [
      "['Apple', 'Apricot', 'Avocado\\n']\n"
     ]
    }
   ],
   "source": [
    "# Create a file fruits.txt with fruit names, then write a program to read and display only those fruits that start with the letter 'A'.\n",
    "with open(\"fruit.txt\",'r') as f:\n",
    "    data = f.read()\n",
    "    sp = data.split(\",\")\n",
    "    l = []\n",
    "    for i in sp:\n",
    "        if i.startswith(\"A\"):\n",
    "            l.append(i)\n",
    "    print(l)"
   ]
  },
  {
   "cell_type": "code",
   "execution_count": 76,
   "id": "e57a8c8d-0fca-4e0c-a7b0-92ae19f455bc",
   "metadata": {},
   "outputs": [
    {
     "name": "stdout",
     "output_type": "stream",
     "text": [
      "Apple,Orange,Apricot,Banana,Avocado\n",
      "\n",
      "Avocado\n",
      "\n"
     ]
    }
   ],
   "source": [
    "# Write a program to read a file and print the longest word in it.\n",
    "with open(\"fruit.txt\",\"r\") as f:\n",
    "    data = f.read()\n",
    "    print(data)\n",
    "    sp = data.split(\",\")\n",
    "    m = sp[0]\n",
    "    for i in sp:\n",
    "        if len(i) > len(m):\n",
    "            m=i\n",
    "    print(m)"
   ]
  },
  {
   "cell_type": "code",
   "execution_count": 120,
   "id": "328bb88f-eb65-4889-bfd9-3eed23cf0019",
   "metadata": {},
   "outputs": [
    {
     "name": "stdout",
     "output_type": "stream",
     "text": [
      "['Bhandra', 'Delhi', 'Nagpur', 'Satara']\n"
     ]
    }
   ],
   "source": [
    "# Create a file cities.txt with city names and write a program to display them in alphabetical order.\n",
    "z = [\"Nagpur\", \"Delhi\", \"Bhandra\", \"Satara\"]\n",
    "with open(\"cities.txt\",\"w+\") as f:\n",
    "    for i in z:\n",
    "        f.write(i)\n",
    "        f.write(\"\\n\")\n",
    "    f.seek(0)\n",
    "    data = f.read()\n",
    "    d = data.split()\n",
    "    d.sort()\n",
    "    print(d)"
   ]
  },
  {
   "cell_type": "code",
   "execution_count": 123,
   "id": "3b2993f7-ea50-4ab9-bf20-78bdd351dea9",
   "metadata": {},
   "outputs": [
    {
     "name": "stdin",
     "output_type": "stream",
     "text": [
      "Write something: Hello, my name is Khushbu\n"
     ]
    }
   ],
   "source": [
    "# Write a program to accept a sentence from the user and write it into a file user_input.txt.\n",
    "sent = input(\"Write something:\")\n",
    "with open(\"user_input.txt\",\"w\") as f:\n",
    "    f.write(sent)"
   ]
  },
  {
   "cell_type": "code",
   "execution_count": 145,
   "id": "358b823f-b04d-4724-9179-6b991303359a",
   "metadata": {},
   "outputs": [
    {
     "name": "stdin",
     "output_type": "stream",
     "text": [
      "Enter a number: 6\n",
      "Enter a number: 23\n",
      "Enter a number: 8\n",
      "Enter a number: 4\n",
      "Enter a number: 9\n"
     ]
    },
    {
     "name": "stdout",
     "output_type": "stream",
     "text": [
      "6\n",
      "23\n",
      "8\n",
      "4\n",
      "9\n",
      "\n"
     ]
    }
   ],
   "source": [
    "# Write a program to accept a list of 5 numbers from the user and store them in a file numbers.txt, one per line.\n",
    "with open(\"numbers.txt\",\"w+\") as f:\n",
    "    for i in range(5):\n",
    "        inp = input(\"Enter a number:\")\n",
    "        f.write(inp + \"\\n\")\n",
    "    f.seek(0)\n",
    "    data = f.read()\n",
    "    print(data)\n"
   ]
  },
  {
   "cell_type": "code",
   "execution_count": 8,
   "id": "aa5d1182-b051-4a83-bc78-dac92a44df6a",
   "metadata": {},
   "outputs": [
    {
     "name": "stdout",
     "output_type": "stream",
     "text": [
      "4\n"
     ]
    }
   ],
   "source": [
    "# Write a program to count the number of words in a file.\n",
    "z = [\"Nagpur\", \"Delhi\", \"Bhandra\", \"Satara\"]\n",
    "with open(\"count.txt\",\"w+\") as f:\n",
    "    for i in z:\n",
    "        f.write(i)\n",
    "        f.write(\"\\n\")\n",
    "    f.seek(0)\n",
    "    data = f.read()\n",
    "    sp = data.split()\n",
    "    c = 0\n",
    "    for i in sp:\n",
    "        c = c + 1\n",
    "    print(c)\n",
    "   \n",
    "    "
   ]
  },
  {
   "cell_type": "code",
   "execution_count": 48,
   "id": "b52b1c4a-a0c6-462f-a96c-a616f499500c",
   "metadata": {},
   "outputs": [],
   "source": [
    "# Write a program to reverse the content of each line in a file and save it to a new file.\n",
    "with open(\"count.txt\",\"r\") as f:\n",
    "    data = f.readlines()\n",
    "    \n",
    "with open(\"reversed.txt\",\"w\") as f:\n",
    "    for i in data:\n",
    "        reversed_line = i.rstrip()[::-1]\n",
    "        f.write(reversed_line + \"\\n\")"
   ]
  },
  {
   "cell_type": "code",
   "execution_count": 56,
   "id": "6a82b7a8-4976-46ed-940e-1343ba318645",
   "metadata": {},
   "outputs": [
    {
     "name": "stdout",
     "output_type": "stream",
     "text": [
      "My name is khushbu\n",
      "\n",
      "I live in Pune.\n",
      "\n",
      "I love coding.\n",
      "\n"
     ]
    }
   ],
   "source": [
    "# Write a program to display the first 3 lines of a text file.\n",
    "a = [\"My name is khushbu\\n\",\"I live in Pune.\\n\", \"I love coding.\\n\", \"Python programming is fun.\\n\",\"I love working.\\n\"]\n",
    "\n",
    "with open(\"text2.txt\", \"w+\") as f:\n",
    "    f.writelines(a)\n",
    "    f.seek(0)\n",
    "    lines = f.readlines()\n",
    "    for i in lines[:3]:\n",
    "        print(i)"
   ]
  },
  {
   "cell_type": "code",
   "execution_count": 64,
   "id": "b273eda2-a25a-48f7-b801-949a1c4f301f",
   "metadata": {},
   "outputs": [
    {
     "name": "stdin",
     "output_type": "stream",
     "text": [
      "Enter a number: 6\n"
     ]
    },
    {
     "name": "stdout",
     "output_type": "stream",
     "text": [
      "6 * 1 = 6\n",
      "6 * 2 = 12\n",
      "6 * 3 = 18\n",
      "6 * 4 = 24\n",
      "6 * 5 = 30\n",
      "6 * 6 = 36\n",
      "6 * 7 = 42\n",
      "6 * 8 = 48\n",
      "6 * 9 = 54\n",
      "6 * 10 = 60\n",
      "\n"
     ]
    }
   ],
   "source": [
    "# Write a program to store the multiplication table of a number (entered by the user)in a file.\n",
    "with open(\"multi.txt\",\"w+\") as f:\n",
    "    inp = int(input(\"Enter a number:\"))\n",
    "    for i in range(1,11):\n",
    "        f.write(f\"{inp} * {i} = {inp * i}\\n\")\n",
    "    f.seek(0)\n",
    "    data = f.read()\n",
    "    print(data)\n"
   ]
  },
  {
   "cell_type": "code",
   "execution_count": 70,
   "id": "e98846f4-ab1a-4132-99c5-c24c42d5b495",
   "metadata": {},
   "outputs": [
    {
     "name": "stdout",
     "output_type": "stream",
     "text": [
      "mayank\n",
      "banana\n",
      "mumbai\n"
     ]
    }
   ],
   "source": [
    "#  Write a Python program to read a file and print all words longer than 5 characters.\n",
    "lst = ['mayank\\n','apple\\n','pen\\n','banana\\n','wakad\\n','mumbai\\n','pune\\n']\n",
    "with open(\"long.txt\",\"w+\") as f:\n",
    "    f.writelines(lst)\n",
    "    f.seek(0)\n",
    "    data = f.read()\n",
    "    sp = data.split()\n",
    "    for i in sp:\n",
    "        if len(i.strip()) > 5:\n",
    "            print(i.strip())"
   ]
  },
  {
   "cell_type": "code",
   "execution_count": 5,
   "id": "3f1383b4-0118-4759-a7aa-36bf5f782efb",
   "metadata": {},
   "outputs": [
    {
     "name": "stdout",
     "output_type": "stream",
     "text": [
      "It's raining heavily outside. I want to have a cup of hot coffee.\n",
      "e occured 5 times\n"
     ]
    }
   ],
   "source": [
    "# Write a program to read a file text.txt and count how many times the character 'e' appears.\n",
    "with open(\"text3.txt\",\"w+\") as f:\n",
    "    f.write(\"It's raining heavily outside. I want to have a cup of hot coffee.\")\n",
    "    f.seek(0)\n",
    "    data = f.read()\n",
    "    e = 0\n",
    "    for i in data:\n",
    "        if i == \"e\":\n",
    "            e = e +1\n",
    "    print(data)\n",
    "    print(f\"e occured {e} times\")"
   ]
  },
  {
   "cell_type": "code",
   "execution_count": 9,
   "id": "be7bfda0-f08f-48fc-abe4-193cfa046015",
   "metadata": {},
   "outputs": [
    {
     "name": "stdout",
     "output_type": "stream",
     "text": [
      "['My', 'name', 'is', 'Khushbu,', 'Khushbu', 'is', 'a', 'good', 'girl']\n"
     ]
    }
   ],
   "source": [
    "# Write a program to read a file article.txt and write only the unique words into unique_words.txt.\n",
    "sent = \"My name is Khushbu, Khushbu is a good girl\"\n",
    "s = sent.split()\n",
    "print(s)"
   ]
  },
  {
   "cell_type": "code",
   "execution_count": 10,
   "id": "9ec7ee59-b767-4c37-b85a-69af16fce010",
   "metadata": {},
   "outputs": [
    {
     "data": {
      "text/plain": [
       "{'Khushbu', 'Khushbu,', 'My', 'a', 'girl', 'good', 'is', 'name'}"
      ]
     },
     "execution_count": 10,
     "metadata": {},
     "output_type": "execute_result"
    }
   ],
   "source": [
    "set(s)"
   ]
  },
  {
   "cell_type": "code",
   "execution_count": 55,
   "id": "5a01894b-78ca-4a0d-94ab-b4b4a33f8431",
   "metadata": {},
   "outputs": [],
   "source": [
    "#Write a program to read a file article.txt and write only the unique words into unique_words.txt.\n",
    "sen = \"I like to read books every night. She likes to read story books too. They read books together on weekends.\"\n",
    "import string\n",
    "with open(\"article.txt\",\"w+\") as f:\n",
    "    f.write(sen)\n",
    "    f.seek(0)\n",
    "    data = f.read()\n",
    "    data = data.translate(str.maketrans(\"\", \"\", string.punctuation))\n",
    "    sp = set(data.lower().split())\n",
    "with open(\"unique_words.txt\",\"w\") as f:\n",
    "    for i in sp:\n",
    "        f.write(i + \" \")\n",
    "        f.write(\"\\n\")"
   ]
  },
  {
   "cell_type": "code",
   "execution_count": 62,
   "id": "d405329e-efe8-4af3-84f1-724c8b1b8ea1",
   "metadata": {},
   "outputs": [],
   "source": [
    "# Write a program to delete the third line from a file named info.txt.\n",
    "sen = \"I like to read books every night.\\nShe likes to read story books too.\\nThey read books together on weekends.\"\n",
    "with open(\"info.txt\", \"w+\") as f:\n",
    "    f.writelines(sen)\n",
    "    f.seek(0)\n",
    "    data = f.readlines()\n",
    "    if len(data) >2:\n",
    "        del data[2]\n",
    "    with open(\"info.txt\", \"w+\") as f:\n",
    "        f.writelines(data)"
   ]
  },
  {
   "cell_type": "code",
   "execution_count": 64,
   "id": "95fd7d29-26c3-4003-8dfe-11f9ba2ffe88",
   "metadata": {},
   "outputs": [
    {
     "name": "stdout",
     "output_type": "stream",
     "text": [
      "Not identicle content\n"
     ]
    }
   ],
   "source": [
    "# Write a program to compare two files and display whether their contents are identical.\n",
    "with open(\"article.txt\",'r') as f1, open(\"info.txt\", 'r') as f2:\n",
    "    data1 = f1.read()\n",
    "    data2 = f2.read()\n",
    "    if data1 == data2:\n",
    "        print(\"Identicle content\")\n",
    "    else:\n",
    "        print(\"Not identicle content\")"
   ]
  },
  {
   "cell_type": "code",
   "execution_count": 68,
   "id": "f51931be-40cf-4c15-bf8e-8a27418f38eb",
   "metadata": {},
   "outputs": [],
   "source": [
    "# Write a program to read essay.txt and write it to numbered_essay.txt, adding line numbers at the start of each line.\n",
    "with open(\"essay.txt\", \"r\") as f:\n",
    "    data = f.readlines()\n",
    "with open(\"numbered_essay.txt\", \"w\") as f:\n",
    "    for i, j in enumerate(data, start=1):\n",
    "        f.write(f\"{i}. {j}\")\n"
   ]
  },
  {
   "cell_type": "code",
   "execution_count": 71,
   "id": "a6fb11d6-6581-47c9-a491-6bda97b67e65",
   "metadata": {},
   "outputs": [],
   "source": [
    "#  Write a Python program to create a file even.txt and write only even numbers (from 1 to 50) into it.\n",
    "with open(\"even.txt\",\"w\") as f:\n",
    "    for i in range(1,51):\n",
    "        if i%2 == 0:\n",
    "            f.write(str(i))\n",
    "            f.write(\"\\n\")"
   ]
  },
  {
   "cell_type": "code",
   "execution_count": null,
   "id": "4225eea6-a59f-4b45-889b-2dbe1eedf52e",
   "metadata": {},
   "outputs": [],
   "source": []
  },
  {
   "cell_type": "code",
   "execution_count": null,
   "id": "c07e94c6-e8aa-4c1a-998f-1a5e94cc074c",
   "metadata": {},
   "outputs": [],
   "source": []
  }
 ],
 "metadata": {
  "kernelspec": {
   "display_name": "Python [conda env:base] *",
   "language": "python",
   "name": "conda-base-py"
  },
  "language_info": {
   "codemirror_mode": {
    "name": "ipython",
    "version": 3
   },
   "file_extension": ".py",
   "mimetype": "text/x-python",
   "name": "python",
   "nbconvert_exporter": "python",
   "pygments_lexer": "ipython3",
   "version": "3.12.7"
  }
 },
 "nbformat": 4,
 "nbformat_minor": 5
}
