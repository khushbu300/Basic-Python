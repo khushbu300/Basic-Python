{
 "cells": [
  {
   "cell_type": "code",
   "execution_count": 3,
   "id": "f72eb021-e6f2-4a38-8e1e-2cbc6d2ea2e1",
   "metadata": {},
   "outputs": [
    {
     "name": "stdin",
     "output_type": "stream",
     "text": [
      "enter a number: 3\n"
     ]
    },
    {
     "name": "stdout",
     "output_type": "stream",
     "text": [
      "Error occured: division by zero\n"
     ]
    }
   ],
   "source": [
    "# Write a program to handle a ZeroDivisionError when dividing a number by zero.\n",
    "try:\n",
    "    num = int(input(\"enter a number:\"))\n",
    "    a = num/0\n",
    "    print(a)\n",
    "except ZeroDivisionError as msg:\n",
    "    print(\"Error occured:\",msg)"
   ]
  },
  {
   "cell_type": "code",
   "execution_count": 34,
   "id": "9783fd2c-9e8a-4e53-a3ea-841b31150fb0",
   "metadata": {},
   "outputs": [
    {
     "name": "stdin",
     "output_type": "stream",
     "text": [
      "Enter a number: k\n"
     ]
    },
    {
     "ename": "ValueError",
     "evalue": "Invalid input",
     "output_type": "error",
     "traceback": [
      "\u001b[1;31m---------------------------------------------------------------------------\u001b[0m",
      "\u001b[1;31mValueError\u001b[0m                                Traceback (most recent call last)",
      "Cell \u001b[1;32mIn[34], line 3\u001b[0m\n\u001b[0;32m      2\u001b[0m \u001b[38;5;28;01mtry\u001b[39;00m:\n\u001b[1;32m----> 3\u001b[0m     num \u001b[38;5;241m=\u001b[39m \u001b[38;5;28mint\u001b[39m(\u001b[38;5;28minput\u001b[39m(\u001b[38;5;124m\"\u001b[39m\u001b[38;5;124mEnter a number:\u001b[39m\u001b[38;5;124m\"\u001b[39m))\n\u001b[0;32m      4\u001b[0m     \u001b[38;5;28mprint\u001b[39m(num)\n",
      "\u001b[1;31mValueError\u001b[0m: invalid literal for int() with base 10: 'k'",
      "\nDuring handling of the above exception, another exception occurred:\n",
      "\u001b[1;31mValueError\u001b[0m                                Traceback (most recent call last)",
      "Cell \u001b[1;32mIn[34], line 6\u001b[0m\n\u001b[0;32m      4\u001b[0m     \u001b[38;5;28mprint\u001b[39m(num)\n\u001b[0;32m      5\u001b[0m \u001b[38;5;28;01mexcept\u001b[39;00m \u001b[38;5;167;01mValueError\u001b[39;00m:\n\u001b[1;32m----> 6\u001b[0m     \u001b[38;5;28;01mraise\u001b[39;00m \u001b[38;5;167;01mValueError\u001b[39;00m(\u001b[38;5;124m\"\u001b[39m\u001b[38;5;124mInvalid input\u001b[39m\u001b[38;5;124m\"\u001b[39m)\n",
      "\u001b[1;31mValueError\u001b[0m: Invalid input"
     ]
    }
   ],
   "source": [
    "# Prompt the user for an integer and raise ValueError if input is invalid.\n",
    "try:\n",
    "    num = int(input(\"Enter a number:\"))\n",
    "    print(num)\n",
    "except ValueError:\n",
    "    raise ValueError(\"Invalid input\")"
   ]
  },
  {
   "cell_type": "code",
   "execution_count": 22,
   "id": "dd931b72-2184-49d5-89e5-8af6c6bafb4f",
   "metadata": {},
   "outputs": [
    {
     "name": "stdout",
     "output_type": "stream",
     "text": [
      "[Errno 2] No such file or directory: 'ajay.txt'\n"
     ]
    }
   ],
   "source": [
    "# Open a non-existent file and handle FileNotFoundError.\n",
    "try:\n",
    "    with open(\"ajay.txt\",'r') as f:\n",
    "        data  = f.read()\n",
    "        print(data)\n",
    "except FileNotFoundError as msg:\n",
    "    print(msg)\n",
    "    "
   ]
  },
  {
   "cell_type": "code",
   "execution_count": 43,
   "id": "4bfbfa33-93f9-482a-bde9-928a4bff5ec3",
   "metadata": {},
   "outputs": [
    {
     "name": "stdin",
     "output_type": "stream",
     "text": [
      "enter a number: 5\n",
      "enter a number: k\n"
     ]
    },
    {
     "ename": "TypeError",
     "evalue": "Please enter valid numbers.",
     "output_type": "error",
     "traceback": [
      "\u001b[1;31m---------------------------------------------------------------------------\u001b[0m",
      "\u001b[1;31mValueError\u001b[0m                                Traceback (most recent call last)",
      "Cell \u001b[1;32mIn[43], line 4\u001b[0m\n\u001b[0;32m      3\u001b[0m num1 \u001b[38;5;241m=\u001b[39m \u001b[38;5;28mfloat\u001b[39m(\u001b[38;5;28minput\u001b[39m(\u001b[38;5;124m\"\u001b[39m\u001b[38;5;124menter a number:\u001b[39m\u001b[38;5;124m\"\u001b[39m))\n\u001b[1;32m----> 4\u001b[0m num2 \u001b[38;5;241m=\u001b[39m \u001b[38;5;28mfloat\u001b[39m(\u001b[38;5;28minput\u001b[39m(\u001b[38;5;124m\"\u001b[39m\u001b[38;5;124menter a number:\u001b[39m\u001b[38;5;124m\"\u001b[39m))\n\u001b[0;32m      5\u001b[0m \u001b[38;5;28mprint\u001b[39m(\u001b[38;5;124mf\u001b[39m\u001b[38;5;124m\"\u001b[39m\u001b[38;5;124mnumbers are \u001b[39m\u001b[38;5;132;01m{\u001b[39;00mnum1\u001b[38;5;132;01m}\u001b[39;00m\u001b[38;5;124m and \u001b[39m\u001b[38;5;132;01m{\u001b[39;00mnum2\u001b[38;5;132;01m}\u001b[39;00m\u001b[38;5;124m\"\u001b[39m)\n",
      "\u001b[1;31mValueError\u001b[0m: could not convert string to float: 'k'",
      "\nDuring handling of the above exception, another exception occurred:\n",
      "\u001b[1;31mTypeError\u001b[0m                                 Traceback (most recent call last)",
      "Cell \u001b[1;32mIn[43], line 8\u001b[0m\n\u001b[0;32m      5\u001b[0m     \u001b[38;5;28mprint\u001b[39m(\u001b[38;5;124mf\u001b[39m\u001b[38;5;124m\"\u001b[39m\u001b[38;5;124mnumbers are \u001b[39m\u001b[38;5;132;01m{\u001b[39;00mnum1\u001b[38;5;132;01m}\u001b[39;00m\u001b[38;5;124m and \u001b[39m\u001b[38;5;132;01m{\u001b[39;00mnum2\u001b[38;5;132;01m}\u001b[39;00m\u001b[38;5;124m\"\u001b[39m)\n\u001b[0;32m      7\u001b[0m \u001b[38;5;28;01mexcept\u001b[39;00m \u001b[38;5;167;01mValueError\u001b[39;00m:\n\u001b[1;32m----> 8\u001b[0m     \u001b[38;5;28;01mraise\u001b[39;00m \u001b[38;5;167;01mTypeError\u001b[39;00m(\u001b[38;5;124m\"\u001b[39m\u001b[38;5;124mPlease enter valid numbers.\u001b[39m\u001b[38;5;124m\"\u001b[39m)\n",
      "\u001b[1;31mTypeError\u001b[0m: Please enter valid numbers."
     ]
    }
   ],
   "source": [
    "# Take two user inputs, validate they are numbers, else raise TypeError.\n",
    "try:\n",
    "    num1 = float(input(\"enter a number:\"))\n",
    "    num2 = float(input(\"enter a number:\"))\n",
    "    print(f\"numbers are {num1} and {num2}\")\n",
    "    \n",
    "except ValueError:\n",
    "    raise TypeError(\"Please enter valid numbers.\")\n",
    "    "
   ]
  },
  {
   "cell_type": "code",
   "execution_count": 46,
   "id": "bea5c67c-3fe5-4fd8-9bd6-4bbec711eaea",
   "metadata": {},
   "outputs": [
    {
     "name": "stdout",
     "output_type": "stream",
     "text": [
      "list index out of range\n"
     ]
    }
   ],
   "source": [
    "# Access an invalid list index and handle IndexError.\n",
    "\n",
    "try:\n",
    "    lst = [5,6,3,2,9]\n",
    "    print(lst[7])\n",
    "except IndexError as msg:\n",
    "    print(msg)"
   ]
  },
  {
   "cell_type": "code",
   "execution_count": 55,
   "id": "23d3e1ea-2769-4282-96cc-a81f81c298fb",
   "metadata": {},
   "outputs": [
    {
     "name": "stdin",
     "output_type": "stream",
     "text": [
      "enter a number: 9\n",
      "enter a number: 0\n"
     ]
    },
    {
     "name": "stdout",
     "output_type": "stream",
     "text": [
      "error occured: division by zero\n"
     ]
    }
   ],
   "source": [
    "# Perform division and handle ArithmeticError.\n",
    "try:\n",
    "    num1 = int(input(\"enter a number:\"))\n",
    "    num2 = int(input(\"enter a number:\"))\n",
    "    print(num1/num2)\n",
    "except ArithmeticError as msg:\n",
    "    print(\"error occured:\",msg)"
   ]
  },
  {
   "cell_type": "code",
   "execution_count": 61,
   "id": "0c397a8a-958d-4d53-b4a7-227daa663e71",
   "metadata": {},
   "outputs": [
    {
     "name": "stdout",
     "output_type": "stream",
     "text": [
      "Error occured: 'list' object has no attribute 'find'\n"
     ]
    }
   ],
   "source": [
    "# Use a string method on a list and handle AttributeError.\n",
    "try:\n",
    "    lst = ['apple','banana','orange','pineapple']\n",
    "    print(lst.find('e'))\n",
    "except AttributeError as msg:\n",
    "    print(\"Error occured:\", msg)"
   ]
  },
  {
   "cell_type": "code",
   "execution_count": 66,
   "id": "38c6f278-b22f-4194-9468-42391519f704",
   "metadata": {},
   "outputs": [
    {
     "name": "stdout",
     "output_type": "stream",
     "text": [
      "Error occured. This key is not present in given dictionary.\n"
     ]
    }
   ],
   "source": [
    "# Try to open a dictionary key that doesn’t exist and handle KeyError.\n",
    "try:\n",
    "    dic = {\"name\":\"Ajay\", 'age':30, \"city\":\"Pune\"}\n",
    "    print(dic['salary'])\n",
    "except KeyError:\n",
    "    print(\"Error occured. This key is not present in given dictionary.\")"
   ]
  },
  {
   "cell_type": "code",
   "execution_count": 67,
   "id": "24dd6c2f-cdb4-4916-a485-ca1ba098df10",
   "metadata": {},
   "outputs": [],
   "source": []
  },
  {
   "cell_type": "code",
   "execution_count": 70,
   "id": "3fd8dc27-82a4-4fcc-8ee6-d4355fe86365",
   "metadata": {},
   "outputs": [
    {
     "name": "stdout",
     "output_type": "stream",
     "text": [
      "String can not be converted into float.\n"
     ]
    }
   ],
   "source": [
    "# Try converting a string to float and handle ValueError.\n",
    "try:\n",
    "    string = \"Khushbu\"\n",
    "    flot = float(string)\n",
    "except:\n",
    "    print(\"String can not be converted into float.\")"
   ]
  },
  {
   "cell_type": "code",
   "execution_count": 74,
   "id": "2ab8cf67-4f7e-4271-b975-eeda822395e8",
   "metadata": {},
   "outputs": [
    {
     "name": "stdout",
     "output_type": "stream",
     "text": [
      "No module named 'basket'\n"
     ]
    }
   ],
   "source": [
    "# Try importing a non-existent module and handle ModuleNotFoundError.\n",
    "try:\n",
    "    import basket\n",
    "except Exception as e:\n",
    "    print(e)"
   ]
  },
  {
   "cell_type": "code",
   "execution_count": 81,
   "id": "d66b0183-8141-4f36-9794-8c08b556cc55",
   "metadata": {},
   "outputs": [
    {
     "name": "stdout",
     "output_type": "stream",
     "text": [
      "This operation is not possible.\n"
     ]
    }
   ],
   "source": [
    "# Open a file for writing in a read-only directory and handle IOError.\n",
    "try:\n",
    "    with open(\"new.txt\",'r') as f:\n",
    "        f.write(\"hello everyone.\")\n",
    "except :\n",
    "    print(\"This operation is not possible.\")"
   ]
  },
  {
   "cell_type": "code",
   "execution_count": 89,
   "id": "0071fcd4-647f-45c5-bf1a-0eb0834fce6a",
   "metadata": {},
   "outputs": [
    {
     "name": "stdin",
     "output_type": "stream",
     "text": [
      "Enter a number: 9\n",
      "Enter a number: 3\n",
      "Enter any word: khl\n"
     ]
    },
    {
     "name": "stdout",
     "output_type": "stream",
     "text": [
      "12\n",
      "3.0\n",
      "Error occured. can only concatenate str (not \"int\") to str\n"
     ]
    }
   ],
   "source": [
    "# Create a program that catches multiple exceptions using a single try block.\n",
    "try:\n",
    "    num1 = int(input(\"Enter a number:\"))\n",
    "    num2 = int(input(\"Enter a number:\"))\n",
    "    word = input(\"Enter any word:\")\n",
    "    print(num1 + num2)\n",
    "    print(num1/num2)\n",
    "    print(word + num1)\n",
    "except (TypeError, ZeroDivisionError,ValueError) as e:\n",
    "    print(\"Error occured.\",e)"
   ]
  },
  {
   "cell_type": "code",
   "execution_count": 90,
   "id": "2f25afe9-c273-491a-bc4d-d145a0c80bc0",
   "metadata": {},
   "outputs": [
    {
     "name": "stdin",
     "output_type": "stream",
     "text": [
      "Enter a number: 6\n",
      "Enter a number: k\n"
     ]
    },
    {
     "name": "stdout",
     "output_type": "stream",
     "text": [
      "Error occured. invalid literal for int() with base 10: 'k'\n",
      "Finally block gets printed anyhow.\n"
     ]
    }
   ],
   "source": [
    "# Demonstrate finally block always running, even after exception.\n",
    "try:\n",
    "    num1 = int(input(\"Enter a number:\"))\n",
    "    num2 = int(input(\"Enter a number:\"))\n",
    "    word = input(\"Enter any word:\")\n",
    "    print(num1 + num2)\n",
    "    print(num1/num2)\n",
    "    print(word + num1)\n",
    "except (TypeError, ZeroDivisionError,ValueError) as e:\n",
    "    print(\"Error occured.\",e)\n",
    "finally:\n",
    "    print(\"Finally block gets printed anyhow.\")\n",
    "    "
   ]
  },
  {
   "cell_type": "code",
   "execution_count": 92,
   "id": "48f83a00-fe8d-404d-a4cb-7d1e069875af",
   "metadata": {},
   "outputs": [
    {
     "name": "stdin",
     "output_type": "stream",
     "text": [
      "Enter number1: 15\n",
      "Enter number2: 3\n"
     ]
    },
    {
     "name": "stdout",
     "output_type": "stream",
     "text": [
      "5.0\n",
      "No error in try block\n",
      "Finally block execution\n"
     ]
    }
   ],
   "source": [
    "# Use else with try-except and explain its behavior with a small code.\n",
    "try:\n",
    "    n1 = int(input(\"Enter number1:\"))\n",
    "    n2 = int(input(\"Enter number2:\"))\n",
    "    print(n1/n2)\n",
    "    \n",
    "except ZeroDivisionError as msg:\n",
    "    print(\"Exception Occured:\",msg)\n",
    "\n",
    "else:\n",
    "    print(\"No error in try block\")\n",
    "    \n",
    "finally:\n",
    "    print(\"Finally block execution\")\n",
    "    "
   ]
  },
  {
   "cell_type": "code",
   "execution_count": null,
   "id": "db667bd7-5699-4f18-985a-5a9473013759",
   "metadata": {},
   "outputs": [],
   "source": []
  }
 ],
 "metadata": {
  "kernelspec": {
   "display_name": "Python [conda env:base] *",
   "language": "python",
   "name": "conda-base-py"
  },
  "language_info": {
   "codemirror_mode": {
    "name": "ipython",
    "version": 3
   },
   "file_extension": ".py",
   "mimetype": "text/x-python",
   "name": "python",
   "nbconvert_exporter": "python",
   "pygments_lexer": "ipython3",
   "version": "3.12.7"
  }
 },
 "nbformat": 4,
 "nbformat_minor": 5
}
