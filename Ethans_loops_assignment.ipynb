{
  "cells": [
    {
      "cell_type": "code",
      "execution_count": null,
      "id": "5cfa2b6d-df17-4406-b1c6-9ac6a850d882",
      "metadata": {
        "id": "5cfa2b6d-df17-4406-b1c6-9ac6a850d882"
      },
      "outputs": [],
      "source": [
        "#Count the number of words in a sentence using loop only."
      ]
    },
    {
      "cell_type": "code",
      "execution_count": null,
      "id": "6eb63d0c-c69f-45a8-9857-f39eb6ad7368",
      "metadata": {
        "id": "6eb63d0c-c69f-45a8-9857-f39eb6ad7368",
        "outputId": "592d6fa5-38de-4bab-9739-6740a713f924"
      },
      "outputs": [
        {
          "name": "stdin",
          "output_type": "stream",
          "text": [
            "Enter the sentence: Hello everyone! my name is khushbu.\n"
          ]
        },
        {
          "name": "stdout",
          "output_type": "stream",
          "text": [
            "6\n"
          ]
        }
      ],
      "source": [
        "sent = input(\"Enter the sentence:\")\n",
        "count = 0\n",
        "for i in sent:\n",
        "    count = count + i.count(\" \")\n",
        "\n",
        "print(count+1)"
      ]
    },
    {
      "cell_type": "code",
      "execution_count": null,
      "id": "c559b612-b60e-4c67-ac17-20489ce1a4b8",
      "metadata": {
        "id": "c559b612-b60e-4c67-ac17-20489ce1a4b8"
      },
      "outputs": [],
      "source": [
        "a='my name is khushbu'"
      ]
    },
    {
      "cell_type": "code",
      "execution_count": null,
      "id": "34ab4ee2-6706-42fc-9a79-89ceeb87be0a",
      "metadata": {
        "id": "34ab4ee2-6706-42fc-9a79-89ceeb87be0a",
        "outputId": "7761e4d8-3dcc-4cc9-8159-790a39d81e89"
      },
      "outputs": [
        {
          "data": {
            "text/plain": [
              "3"
            ]
          },
          "execution_count": 23,
          "metadata": {},
          "output_type": "execute_result"
        }
      ],
      "source": [
        "a.count(\" \")"
      ]
    },
    {
      "cell_type": "code",
      "execution_count": null,
      "id": "91656f91-1e5d-4978-a41b-7d3043af5da0",
      "metadata": {
        "id": "91656f91-1e5d-4978-a41b-7d3043af5da0"
      },
      "outputs": [],
      "source": [
        "# Reverse a list using only a loop (do not use reversed() or slicing)."
      ]
    },
    {
      "cell_type": "code",
      "execution_count": null,
      "id": "5807dc89-69ce-4bbf-bb41-cca7fe94fa49",
      "metadata": {
        "id": "5807dc89-69ce-4bbf-bb41-cca7fe94fa49",
        "outputId": "9041793e-ac82-4588-941e-9423b6c662e5"
      },
      "outputs": [
        {
          "name": "stdout",
          "output_type": "stream",
          "text": [
            "[9, 6, 3, 5, 1]\n"
          ]
        }
      ],
      "source": [
        "l = [1,5,3,6,9]\n",
        "p = []\n",
        "for i in range(len(l)-1,-1,-1):\n",
        "    p.append(l[i])\n",
        "print(p)\n"
      ]
    },
    {
      "cell_type": "code",
      "execution_count": null,
      "id": "c35fc881-0ce3-4099-9d51-33f5c5c61da1",
      "metadata": {
        "id": "c35fc881-0ce3-4099-9d51-33f5c5c61da1",
        "outputId": "44a831e8-c234-40dd-b7fb-d204e1a58197"
      },
      "outputs": [
        {
          "data": {
            "text/plain": [
              "[1, 5, 3, 6, 9]"
            ]
          },
          "execution_count": 41,
          "metadata": {},
          "output_type": "execute_result"
        }
      ],
      "source": [
        "l"
      ]
    },
    {
      "cell_type": "code",
      "execution_count": null,
      "id": "2ee6eb63-259d-4359-89ff-916660b1f0d1",
      "metadata": {
        "id": "2ee6eb63-259d-4359-89ff-916660b1f0d1",
        "outputId": "b47c6a4f-d1bf-47ce-afd7-5141a28a9214"
      },
      "outputs": [
        {
          "data": {
            "text/plain": [
              "[4, 3, 2, 1, 0]"
            ]
          },
          "execution_count": 47,
          "metadata": {},
          "output_type": "execute_result"
        }
      ],
      "source": [
        "list(range(len(l)-1,-1,-1))"
      ]
    },
    {
      "cell_type": "code",
      "execution_count": null,
      "id": "4fd85921-8177-47ff-8a3c-252ec6f54810",
      "metadata": {
        "id": "4fd85921-8177-47ff-8a3c-252ec6f54810",
        "outputId": "90c1f9f9-1b7c-44b5-e613-51688d8b6f38"
      },
      "outputs": [
        {
          "data": {
            "text/plain": [
              "range(4, -1, -1)"
            ]
          },
          "execution_count": 49,
          "metadata": {},
          "output_type": "execute_result"
        }
      ],
      "source": [
        "range(len(l)-1,-1,-1)\n"
      ]
    },
    {
      "cell_type": "code",
      "execution_count": null,
      "id": "5aa6fe07-a836-4fe4-8a5d-2748b54c6ba2",
      "metadata": {
        "id": "5aa6fe07-a836-4fe4-8a5d-2748b54c6ba2"
      },
      "outputs": [],
      "source": [
        "# 19. Find the factorial of a number using a loop (not recursion)."
      ]
    },
    {
      "cell_type": "code",
      "execution_count": null,
      "id": "246756e7-3aee-47fd-9706-9f08b5482283",
      "metadata": {
        "id": "246756e7-3aee-47fd-9706-9f08b5482283",
        "outputId": "00f6a3d8-0e4b-4ca4-92c1-ff982c3ed5eb"
      },
      "outputs": [
        {
          "name": "stdin",
          "output_type": "stream",
          "text": [
            "enter number 5\n"
          ]
        },
        {
          "name": "stdout",
          "output_type": "stream",
          "text": [
            "120\n"
          ]
        }
      ],
      "source": [
        "n=int(input(\"enter number\"))\n",
        "fact=1\n",
        "for i in range(1,n+1):\n",
        "    fact=fact*i\n",
        "print(fact)"
      ]
    },
    {
      "cell_type": "code",
      "execution_count": null,
      "id": "13615abd-e71f-46ed-b378-216e2e7f1266",
      "metadata": {
        "id": "13615abd-e71f-46ed-b378-216e2e7f1266"
      },
      "outputs": [],
      "source": [
        "# Strings:\n",
        "\n",
        "2. Write a program to reverse a string using a for loop.\n",
        "3. Write a program to print each character of a string along with its index using a for\n",
        "loop.\n"
      ]
    },
    {
      "cell_type": "code",
      "execution_count": null,
      "id": "51ce4551-3e51-4a3b-b681-e791826669df",
      "metadata": {
        "id": "51ce4551-3e51-4a3b-b681-e791826669df",
        "outputId": "8e10f06c-09a7-45e5-f115-11ab3cb37c4a"
      },
      "outputs": [
        {
          "name": "stdin",
          "output_type": "stream",
          "text": [
            "Enter string: hello pune, this is khushbu here.\n"
          ]
        },
        {
          "name": "stdout",
          "output_type": "stream",
          "text": [
            "10\n"
          ]
        }
      ],
      "source": [
        "# 1. Write a program to count the number of vowels in a given string using a for loop.\n",
        "string = input(\"Enter string:\").upper()\n",
        "v = 'AEIOU'\n",
        "count = 0\n",
        "for i in string:\n",
        "    if i in v:\n",
        "        count = count + 1\n",
        "print(count)\n"
      ]
    },
    {
      "cell_type": "code",
      "execution_count": null,
      "id": "8ecc8389-6df4-42e7-8edc-043c53ddbd25",
      "metadata": {
        "id": "8ecc8389-6df4-42e7-8edc-043c53ddbd25",
        "outputId": "20e11f80-a916-479d-f81e-17c6be57f478"
      },
      "outputs": [
        {
          "name": "stdin",
          "output_type": "stream",
          "text": [
            "Enter string: hello pune, this is khushbu here.\n"
          ]
        },
        {
          "name": "stdout",
          "output_type": "stream",
          "text": [
            "'H'----> 5\n",
            "'E'----> 4\n",
            "'L'----> 2\n",
            "'O'----> 1\n",
            "' '----> 5\n",
            "'P'----> 1\n",
            "'U'----> 3\n",
            "'N'----> 1\n",
            "','----> 1\n",
            "'T'----> 1\n",
            "'I'----> 2\n",
            "'S'----> 3\n",
            "'K'----> 1\n",
            "'B'----> 1\n",
            "'R'----> 1\n",
            "'.'----> 1\n"
          ]
        }
      ],
      "source": [
        "# 4. Write a program to find the frequency of each character in a string using a for loop.\n",
        "string = input(\"Enter string:\").upper()\n",
        "d={}\n",
        "for i in string:\n",
        "    if i in d:\n",
        "        d[i] = d[i]+1\n",
        "    else:\n",
        "        d[i] = 1\n",
        "\n",
        "for i, j in d.items():\n",
        "    print(f\"'{i}'----> {j}\")"
      ]
    },
    {
      "cell_type": "code",
      "execution_count": null,
      "id": "7bf2a989-bf02-4ad6-a63d-c6f689893a66",
      "metadata": {
        "id": "7bf2a989-bf02-4ad6-a63d-c6f689893a66",
        "outputId": "10ca6b9b-30f5-42f4-a4ab-63bf12a06b8b"
      },
      "outputs": [
        {
          "name": "stdin",
          "output_type": "stream",
          "text": [
            "Enter string: hello pune, this is khushbu here.\n"
          ]
        },
        {
          "name": "stdout",
          "output_type": "stream",
          "text": [
            "Hello Pune, This Is Khushbu Here. "
          ]
        }
      ],
      "source": [
        "#5. Write a program to capitalize the first letter of each word in a string using a for loop.\n",
        "string = input(\"Enter string:\")\n",
        "s = string.split(\" \")\n",
        "for i in s:\n",
        "    cap = i.capitalize()\n",
        "    print(cap,end=\" \")"
      ]
    },
    {
      "cell_type": "code",
      "execution_count": null,
      "id": "32dcc735-a71b-4276-90f1-9bd5390e84f3",
      "metadata": {
        "id": "32dcc735-a71b-4276-90f1-9bd5390e84f3"
      },
      "outputs": [],
      "source": [
        "\" \".join()"
      ]
    },
    {
      "cell_type": "code",
      "execution_count": null,
      "id": "d9673760-2991-44e5-bc2c-a343aa9fb933",
      "metadata": {
        "id": "d9673760-2991-44e5-bc2c-a343aa9fb933"
      },
      "outputs": [],
      "source": [
        "# 6. Write a program to replace all vowels in a string with a specific character using a for loop."
      ]
    },
    {
      "cell_type": "code",
      "execution_count": null,
      "id": "db85e103-398b-4caf-9ae1-90f82e7af5d1",
      "metadata": {
        "id": "db85e103-398b-4caf-9ae1-90f82e7af5d1",
        "outputId": "336efc3f-a547-42c8-d80f-1629a398cef9"
      },
      "outputs": [
        {
          "name": "stdin",
          "output_type": "stream",
          "text": [
            "Enter string: my name is khushbu\n",
            "Enter character: $\n"
          ]
        },
        {
          "name": "stdout",
          "output_type": "stream",
          "text": [
            "my n$m$ $s kh$shb$\n"
          ]
        }
      ],
      "source": [
        "string = input(\"Enter string:\").lower()\n",
        "char = input(\"Enter character:\")\n",
        "v = 'aeiou'\n",
        "\n",
        "new = ''\n",
        "for i in string:\n",
        "    if i in v:\n",
        "        new = new+char\n",
        "    else:\n",
        "        new = new + i\n",
        "print(new)"
      ]
    },
    {
      "cell_type": "code",
      "execution_count": null,
      "id": "65c1d4fb-71c3-4863-9dc3-c2a63edad304",
      "metadata": {
        "id": "65c1d4fb-71c3-4863-9dc3-c2a63edad304"
      },
      "outputs": [],
      "source": []
    }
  ],
  "metadata": {
    "kernelspec": {
      "display_name": "Python [conda env:base] *",
      "language": "python",
      "name": "conda-base-py"
    },
    "language_info": {
      "codemirror_mode": {
        "name": "ipython",
        "version": 3
      },
      "file_extension": ".py",
      "mimetype": "text/x-python",
      "name": "python",
      "nbconvert_exporter": "python",
      "pygments_lexer": "ipython3",
      "version": "3.12.7"
    },
    "colab": {
      "provenance": []
    }
  },
  "nbformat": 4,
  "nbformat_minor": 5
}